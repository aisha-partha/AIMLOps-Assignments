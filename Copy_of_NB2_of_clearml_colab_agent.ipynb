{
  "cells": [
    {
      "cell_type": "markdown",
      "metadata": {
        "id": "view-in-github",
        "colab_type": "text"
      },
      "source": [
        "<a href=\"https://colab.research.google.com/github/aisha-partha/AIMLOps-Assignments/blob/main/Copy_of_NB2_of_clearml_colab_agent.ipynb\" target=\"_parent\"><img src=\"https://colab.research.google.com/assets/colab-badge.svg\" alt=\"Open In Colab\"/></a>"
      ]
    },
    {
      "cell_type": "markdown",
      "metadata": {
        "id": "mC3A4rio6Y--"
      },
      "source": [
        "# Google Colab Used to Launch ClearML Agent\n"
      ]
    },
    {
      "cell_type": "markdown",
      "metadata": {
        "id": "EPYjmFLy1zuC"
      },
      "source": [
        "## Step 1: Install all necessary packages"
      ]
    },
    {
      "cell_type": "code",
      "execution_count": 1,
      "metadata": {
        "id": "DwFC3fL8JAP3",
        "colab": {
          "base_uri": "https://localhost:8080/"
        },
        "outputId": "e164e95f-41d3-4c4d-ac49-a56bfe1e6ccc"
      },
      "outputs": [
        {
          "output_type": "stream",
          "name": "stdout",
          "text": [
            "\u001b[2K   \u001b[90m━━━━━━━━━━━━━━━━━━━━━━━━━━━━━━━━━━━━━━━━\u001b[0m \u001b[32m1.2/1.2 MB\u001b[0m \u001b[31m15.4 MB/s\u001b[0m eta \u001b[36m0:00:00\u001b[0m\n",
            "\u001b[2K     \u001b[90m━━━━━━━━━━━━━━━━━━━━━━━━━━━━━━━━━━━━━━━━\u001b[0m \u001b[32m50.1/50.1 kB\u001b[0m \u001b[31m1.9 MB/s\u001b[0m eta \u001b[36m0:00:00\u001b[0m\n",
            "\u001b[2K   \u001b[90m━━━━━━━━━━━━━━━━━━━━━━━━━━━━━━━━━━━━━━━━\u001b[0m \u001b[32m439.0/439.0 kB\u001b[0m \u001b[31m9.8 MB/s\u001b[0m eta \u001b[36m0:00:00\u001b[0m\n",
            "\u001b[2K   \u001b[90m━━━━━━━━━━━━━━━━━━━━━━━━━━━━━━━━━━━━━━━━\u001b[0m \u001b[32m60.8/60.8 kB\u001b[0m \u001b[31m3.6 MB/s\u001b[0m eta \u001b[36m0:00:00\u001b[0m\n",
            "\u001b[2K   \u001b[90m━━━━━━━━━━━━━━━━━━━━━━━━━━━━━━━━━━━━━━━━\u001b[0m \u001b[32m104.1/104.1 kB\u001b[0m \u001b[31m6.0 MB/s\u001b[0m eta \u001b[36m0:00:00\u001b[0m\n",
            "\u001b[2K   \u001b[90m━━━━━━━━━━━━━━━━━━━━━━━━━━━━━━━━━━━━━━━━\u001b[0m \u001b[32m62.6/62.6 kB\u001b[0m \u001b[31m3.7 MB/s\u001b[0m eta \u001b[36m0:00:00\u001b[0m\n",
            "\u001b[2K   \u001b[90m━━━━━━━━━━━━━━━━━━━━━━━━━━━━━━━━━━━━━━━━\u001b[0m \u001b[32m144.2/144.2 kB\u001b[0m \u001b[31m8.4 MB/s\u001b[0m eta \u001b[36m0:00:00\u001b[0m\n",
            "\u001b[2K   \u001b[90m━━━━━━━━━━━━━━━━━━━━━━━━━━━━━━━━━━━━━━━━\u001b[0m \u001b[32m4.3/4.3 MB\u001b[0m \u001b[31m59.2 MB/s\u001b[0m eta \u001b[36m0:00:00\u001b[0m\n",
            "\u001b[2K   \u001b[90m━━━━━━━━━━━━━━━━━━━━━━━━━━━━━━━━━━━━━━━━\u001b[0m \u001b[32m469.0/469.0 kB\u001b[0m \u001b[31m27.4 MB/s\u001b[0m eta \u001b[36m0:00:00\u001b[0m\n",
            "\u001b[?25h\u001b[31mERROR: pip's dependency resolver does not currently take into account all the packages that are installed. This behaviour is the source of the following dependency conflicts.\n",
            "google-colab 1.0.0 requires requests==2.32.3, but you have requests 2.31.0 which is incompatible.\u001b[0m\u001b[31m\n",
            "\u001b[0m"
          ]
        }
      ],
      "source": [
        "# If you don't have ClearML and ClearML Agent installed then uncomment these line\n",
        "!pip -q install clearml\n",
        "!pip -q install clearml-agent"
      ]
    },
    {
      "cell_type": "markdown",
      "metadata": {
        "id": "gb41kM8i1-7T"
      },
      "source": [
        "## Step 2: Export this environment variable\n",
        "\n",
        "This environment variable makes Matplotlib work in headless mode, so it won't output graphs to the screen"
      ]
    },
    {
      "cell_type": "code",
      "execution_count": 2,
      "metadata": {
        "id": "3-Bm4811VMLK"
      },
      "outputs": [],
      "source": [
        "! export MPLBACKEND=TkAg"
      ]
    },
    {
      "cell_type": "markdown",
      "metadata": {
        "id": "TlA7ZN39cYM5"
      },
      "source": [
        "### Step 2b (OPTIONAL): Enter your github credentials (only for private repositories)\n",
        "In order for the agent to pull your code, it needs access to your repositories. If these are private, you'll have to supply the agent with github credentials to log in. Github/Bitbucket will no longer let you log in using username/password combinations. Instead, you have to use a personal token, read more about it [here for Github](https://docs.github.com/en/authentication/keeping-your-account-and-data-secure/creating-a-personal-access-token) and [here for Bitbucket](https://support.atlassian.com/bitbucket-cloud/docs/app-passwords/)\n",
        "\n",
        "We can let the agent know which credentials to use by setting the following env variables"
      ]
    },
    {
      "cell_type": "code",
      "execution_count": 3,
      "metadata": {
        "id": "rLp2Lv12cYM6"
      },
      "outputs": [],
      "source": [
        "#@title Insert your Git Credentials\n",
        "\n",
        "# import os\n",
        "# os.environ[\"CLEARML_AGENT_GIT_USER\"] = \"username-goes-here\" #@param {type:\"string\"}\n",
        "# os.environ[\"CLEARML_AGENT_GIT_PASS\"] = \"git-personal-access-token\" #@param {type:\"string\"}"
      ]
    },
    {
      "cell_type": "markdown",
      "metadata": {
        "id": "chuUzBaU2NyB"
      },
      "source": [
        "## Step 3: Create new credentials:\n",
        "1. Go to your [ClearML WebApp **Settings**](https://app.clear.ml/settings/workspace-configuration).\n",
        "1. Under the **WORKSPACES** section, go to **App Credentials**, and click **+ Create new credentials**\n",
        "1. Copy your credentials"
      ]
    },
    {
      "cell_type": "markdown",
      "metadata": {
        "id": "1Kloxwfj0Vnq"
      },
      "source": [
        "## Step 4: Set your ClearML Credentials\n",
        "\n",
        "Insert the credentials you created in Step 3.\n",
        "\n",
        "If you aren't using the ClearML hosted server, make sure to modify the server variables."
      ]
    },
    {
      "cell_type": "code",
      "execution_count": 4,
      "metadata": {
        "id": "YBPdmP4sJHnQ",
        "cellView": "form"
      },
      "outputs": [],
      "source": [
        "#@title Insert your own Credentials\n",
        "\n",
        "from clearml import Task\n",
        "\n",
        "web_server = 'https://app.clear.ml'#@param {type:\"string\"}\n",
        "api_server = 'https://api.clear.ml'#@param {type:\"string\"}\n",
        "files_server = 'https://files.clear.ml'#@param {type:\"string\"}\n",
        "access_key = '0CZK31JX2QBZF94GKFPHSUF2AOPUID'#@param {type:\"string\"}\n",
        "secret_key = 'xPuWHLXNVNNxOeIGbekCVUmxSPuExepWh0VrtdDUNnlLDBk3s4-ghVJYU4LdoKG2aT8'#@param {type:\"string\"}\n",
        "\n",
        "Task.set_credentials(web_host=web_server,\n",
        "                     api_host=api_server,\n",
        "                     files_host=files_server,\n",
        "                     key=access_key,\n",
        "                     secret=secret_key\n",
        "                     )\n",
        "\n"
      ]
    },
    {
      "cell_type": "markdown",
      "metadata": {
        "id": "Er3HUBty4m7i"
      },
      "source": [
        "## Step 4: Run clearml-agent"
      ]
    },
    {
      "cell_type": "code",
      "source": [
        "import os\n",
        "os.environ[\"CLEARML_WORKER_NAME\"] = \"AISHWARYA-1\""
      ],
      "metadata": {
        "id": "gMWOomM3dCrD"
      },
      "execution_count": 5,
      "outputs": []
    },
    {
      "cell_type": "code",
      "execution_count": null,
      "metadata": {
        "id": "QcczeU7OJ9G-",
        "colab": {
          "base_uri": "https://localhost:8080/"
        },
        "outputId": "fc4df889-8613-4788-fb5b-7cd89375ad61"
      },
      "outputs": [
        {
          "output_type": "stream",
          "name": "stdout",
          "text": [
            "Using environment access key CLEARML_API_ACCESS_KEY=0CZK31JX2QBZF94GKFPHSUF2AOPUID\n",
            "Using environment secret key CLEARML_API_SECRET_KEY=********\n",
            "Current configuration (clearml_agent v1.9.2, location: None):\n",
            "----------------------\n",
            "agent.worker_id = \n",
            "agent.worker_name = AISHWARYA-1\n",
            "agent.force_git_ssh_protocol = false\n",
            "agent.python_binary = \n",
            "agent.package_manager.type = pip\n",
            "agent.package_manager.pip_version.0 = <20.2 ; python_version < '3.10'\n",
            "agent.package_manager.pip_version.1 = <22.3 ; python_version >\\= '3.10' and python_version <\\= '3.11'\n",
            "agent.package_manager.pip_version.2 = >\\=23,<24.3 ; python_version >\\= '3.12'\n",
            "agent.package_manager.system_site_packages = false\n",
            "agent.package_manager.force_upgrade = false\n",
            "agent.package_manager.pip_legacy_resolver.0 = >\\=20.3,<24.3\n",
            "agent.package_manager.conda_channels.0 = pytorch\n",
            "agent.package_manager.conda_channels.1 = conda-forge\n",
            "agent.package_manager.conda_channels.2 = nvidia\n",
            "agent.package_manager.conda_channels.3 = defaults\n",
            "agent.package_manager.priority_optional_packages.0 = pygobject\n",
            "agent.package_manager.torch_nightly = false\n",
            "agent.package_manager.poetry_files_from_repo_working_dir = false\n",
            "agent.venvs_dir = /root/.clearml/venvs-builds\n",
            "agent.venvs_cache.max_entries = 10\n",
            "agent.venvs_cache.free_space_threshold_gb = 2.0\n",
            "agent.venvs_cache.path = ~/.clearml/venvs-cache\n",
            "agent.vcs_cache.enabled = true\n",
            "agent.vcs_cache.path = /root/.clearml/vcs-cache\n",
            "agent.venv_update.enabled = false\n",
            "agent.pip_download_cache.enabled = true\n",
            "agent.pip_download_cache.path = /root/.clearml/pip-download-cache\n",
            "agent.translate_ssh = true\n",
            "agent.reload_config = false\n",
            "agent.docker_pip_cache = /root/.clearml/pip-cache\n",
            "agent.docker_apt_cache = /root/.clearml/apt-cache\n",
            "agent.docker_force_pull = false\n",
            "agent.default_docker.image = nvidia/cuda:11.0.3-cudnn8-runtime-ubuntu20.04\n",
            "agent.default_docker.match_rules.0.image = python:3.6-bullseye\n",
            "agent.default_docker.match_rules.0.arguments = --ipc\\=host\n",
            "agent.default_docker.match_rules.0.match.script.binary = python3.6$\n",
            "agent.default_docker.match_rules.1.image = python:3.7-bullseye\n",
            "agent.default_docker.match_rules.1.arguments = --ipc\\=host\n",
            "agent.default_docker.match_rules.1.match.script.binary = python3.7$\n",
            "agent.default_docker.match_rules.2.image = python:3.8-bullseye\n",
            "agent.default_docker.match_rules.2.arguments = --ipc\\=host\n",
            "agent.default_docker.match_rules.2.match.script.binary = python3.8$\n",
            "agent.default_docker.match_rules.3.image = python:3.9-bullseye\n",
            "agent.default_docker.match_rules.3.arguments = --ipc\\=host\n",
            "agent.default_docker.match_rules.3.match.script.binary = python3.9$\n",
            "agent.default_docker.match_rules.4.image = python:3.10-bullseye\n",
            "agent.default_docker.match_rules.4.arguments = --ipc\\=host\n",
            "agent.default_docker.match_rules.4.match.script.binary = python3.10$\n",
            "agent.default_docker.match_rules.5.image = python:3.11-bullseye\n",
            "agent.default_docker.match_rules.5.arguments = --ipc\\=host\n",
            "agent.default_docker.match_rules.5.match.script.binary = python3.11$\n",
            "agent.default_docker.match_rules.6.image = python:3.12-bullseye\n",
            "agent.default_docker.match_rules.6.arguments = --ipc\\=host\n",
            "agent.default_docker.match_rules.6.match.script.binary = python3.12$\n",
            "agent.enable_task_env = false\n",
            "agent.sanitize_config_printout = ****\n",
            "agent.hide_docker_command_env_vars.enabled = true\n",
            "agent.hide_docker_command_env_vars.parse_embedded_urls = true\n",
            "agent.abort_callback_max_timeout = 1800\n",
            "agent.docker_internal_mounts.sdk_cache = /clearml_agent_cache\n",
            "agent.docker_internal_mounts.apt_cache = /var/cache/apt/archives\n",
            "agent.docker_internal_mounts.ssh_folder = ~/.ssh\n",
            "agent.docker_internal_mounts.ssh_ro_folder = /.ssh\n",
            "agent.docker_internal_mounts.pip_cache = /root/.cache/pip\n",
            "agent.docker_internal_mounts.poetry_cache = /root/.cache/pypoetry\n",
            "agent.docker_internal_mounts.vcs_cache = /root/.clearml/vcs-cache\n",
            "agent.docker_internal_mounts.venvs_cache = /root/.clearml/venvs-cache\n",
            "agent.docker_internal_mounts.venv_build = ~/.clearml/venvs-builds\n",
            "agent.docker_internal_mounts.pip_download = /root/.clearml/pip-download-cache\n",
            "agent.apply_environment = true\n",
            "agent.apply_files = true\n",
            "agent.custom_build_script = \n",
            "agent.disable_task_docker_override = false\n",
            "agent.default_python = 3.10\n",
            "agent.cuda_version = 122\n",
            "agent.cudnn_version = 0\n",
            "api.version = 1.5\n",
            "api.verify_certificate = true\n",
            "api.default_version = 1.5\n",
            "api.http.max_req_size = 15728640\n",
            "api.http.retries.total = 240\n",
            "api.http.retries.connect = 240\n",
            "api.http.retries.read = 240\n",
            "api.http.retries.redirect = 240\n",
            "api.http.retries.status = 240\n",
            "api.http.retries.backoff_factor = 1.0\n",
            "api.http.retries.backoff_max = 120.0\n",
            "api.http.wait_on_maintenance_forever = true\n",
            "api.http.pool_maxsize = 512\n",
            "api.http.pool_connections = 512\n",
            "api.auth.token_expiration_threshold_sec = ****\n",
            "api.api_server = https://api.clear.ml\n",
            "api.files_server = https://files.clear.ml\n",
            "api.web_server = https://app.clear.ml\n",
            "api.credentials.access_key = 0CZK31JX2QBZF94GKFPHSUF2AOPUID\n",
            "api.credentials.secret_key = ****\n",
            "sdk.storage.cache.default_base_dir = ~/.clearml/cache\n",
            "sdk.storage.cache.size.min_free_bytes = 10GB\n",
            "sdk.storage.direct_access.0.url = file://*\n",
            "sdk.metrics.file_history_size = 100\n",
            "sdk.metrics.matplotlib_untitled_history_size = 100\n",
            "sdk.metrics.images.format = JPEG\n",
            "sdk.metrics.images.quality = 87\n",
            "sdk.metrics.images.subsampling = 0\n",
            "sdk.metrics.tensorboard_single_series_per_graph = false\n",
            "sdk.network.metrics.file_upload_threads = 4\n",
            "sdk.network.metrics.file_upload_starvation_warning_sec = 120\n",
            "sdk.network.iteration.max_retries_on_server_error = 5\n",
            "sdk.network.iteration.retry_backoff_factor_sec = 10\n",
            "sdk.aws.s3.key = \n",
            "sdk.aws.s3.secret = ****\n",
            "sdk.aws.s3.region = \n",
            "sdk.aws.boto3.pool_connections = 512\n",
            "sdk.aws.boto3.max_multipart_concurrency = 16\n",
            "sdk.log.null_log_propagate = false\n",
            "sdk.log.task_log_buffer_capacity = 66\n",
            "sdk.log.disable_urllib3_info = true\n",
            "sdk.development.task_reuse_time_window_in_hours = 72.0\n",
            "sdk.development.vcs_repo_detect_async = true\n",
            "sdk.development.store_uncommitted_code_diff = true\n",
            "sdk.development.support_stopping = true\n",
            "sdk.development.default_output_uri = \n",
            "sdk.development.force_analyze_entire_repo = false\n",
            "sdk.development.suppress_update_message = false\n",
            "sdk.development.detect_with_pip_freeze = false\n",
            "sdk.development.worker.report_period_sec = 2\n",
            "sdk.development.worker.ping_period_sec = 30\n",
            "sdk.development.worker.log_stdout = true\n",
            "sdk.development.worker.report_global_mem_used = false\n",
            "\n",
            "Worker \"AISHWARYA-1:gpuall\" - Listening to queues:\n",
            "+----------------------------------+---------+-------+\n",
            "| id                               | name    | tags  |\n",
            "+----------------------------------+---------+-------+\n",
            "| 34c57980f3f44fa8bea21beef45b65b5 | default |       |\n",
            "+----------------------------------+---------+-------+\n",
            "\n",
            "Running CLEARML-AGENT daemon in background mode, writing stdout/stderr to /tmp/.clearml_agent_daemon_out_k9b9ijo.txt\n"
          ]
        }
      ],
      "source": [
        "!clearml-agent daemon --queue default"
      ]
    }
  ],
  "metadata": {
    "colab": {
      "provenance": [],
      "toc_visible": true,
      "include_colab_link": true
    },
    "interpreter": {
      "hash": "d75e902da2bbfe9f41879fcf2334f5819447e02a7f656a079df344fef4e78809"
    },
    "kernelspec": {
      "display_name": "Python 3.7.12 64-bit ('.env')",
      "name": "python3"
    },
    "language_info": {
      "name": "python",
      "version": ""
    }
  },
  "nbformat": 4,
  "nbformat_minor": 0
}