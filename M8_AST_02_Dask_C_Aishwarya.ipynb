{
  "nbformat": 4,
  "nbformat_minor": 5,
  "metadata": {
    "colab": {
      "provenance": [],
      "gpuType": "V28",
      "include_colab_link": true
    },
    "kernelspec": {
      "display_name": "Python 3",
      "language": "python",
      "name": "python3"
    },
    "language_info": {
      "codemirror_mode": {
        "name": "ipython",
        "version": 3
      },
      "file_extension": ".py",
      "mimetype": "text/x-python",
      "name": "python",
      "nbconvert_exporter": "python",
      "pygments_lexer": "ipython3",
      "version": "3.8.5"
    },
    "accelerator": "TPU"
  },
  "cells": [
    {
      "cell_type": "markdown",
      "metadata": {
        "id": "view-in-github",
        "colab_type": "text"
      },
      "source": [
        "<a href=\"https://colab.research.google.com/github/aisha-partha/AIMLOps-Assignments/blob/main/M8_AST_02_Dask_C_Aishwarya.ipynb\" target=\"_parent\"><img src=\"https://colab.research.google.com/assets/colab-badge.svg\" alt=\"Open In Colab\"/></a>"
      ]
    },
    {
      "cell_type": "markdown",
      "metadata": {
        "id": "temporal-consequence"
      },
      "source": [
        "# Advanced Certification Programme in AI and MLOps\n",
        "## A Program by IISc and TalentSprint\n",
        "### Assignment 2: Dask"
      ],
      "id": "temporal-consequence"
    },
    {
      "cell_type": "markdown",
      "metadata": {
        "id": "imported-begin"
      },
      "source": [
        "## Learning Objectives"
      ],
      "id": "imported-begin"
    },
    {
      "cell_type": "markdown",
      "metadata": {
        "id": "solid-upset"
      },
      "source": [
        "At the end of the experiment, you will be able to:\n",
        "\n",
        "* know and implement dask related libraries\n",
        "* understand and visualize parallel processing using dask delayed\n",
        "* implement dask arrays\n",
        "* handle large and complex datasets in dask dataframes\n",
        "* implement list using dask bags\n",
        "* implement Linear Regression using dask-ml"
      ],
      "id": "solid-upset"
    },
    {
      "cell_type": "markdown",
      "metadata": {
        "id": "Mc_TIXSUPf8V"
      },
      "source": [
        "## Information"
      ],
      "id": "Mc_TIXSUPf8V"
    },
    {
      "cell_type": "markdown",
      "metadata": {
        "id": "external-gathering"
      },
      "source": [
        "### Dask\n",
        "\n",
        "Dask was launched in late 2014 by Matthew Rocklin with aims to bring native scalability to the Python Open Data Science  and overcome its single-machine restrictions. Dask consists of several different components and APIs, which can be categorized into three layers:\n",
        "\n",
        "* the scheduler\n",
        "* low-level APIs\n",
        "* high-level APIs"
      ],
      "id": "external-gathering"
    },
    {
      "cell_type": "markdown",
      "metadata": {
        "id": "EKabdQH8PFyP"
      },
      "source": [
        "![Dask_Overview](https://cdn.iisc.talentsprint.com/CDS/Images/Dask_Overview.JPG)"
      ],
      "id": "EKabdQH8PFyP"
    },
    {
      "cell_type": "markdown",
      "metadata": {
        "id": "novel-franchise"
      },
      "source": [
        "Dask is a free and open-source library for parallel computing in Python. It helps you scale your data science and machine learning workflows. It makes it easy to work with Numpy, Pandas, and Scikit-Learn, but that’s just the beginning. Dask exposes low-level APIs to its internal task scheduler to execute advanced computations. This enables building a personalised parallel computing system that uses the same engine that powers Dask’s Arrays, DataFrames, and machine learning algorithms.\n",
        "\n",
        "If you have larger-than-memory data, you can use Dask to scale up your workflow to leverage all the cores of your local workstation or even scale out to the cloud.\n",
        "\n",
        "Dask emphasizes the following virtues:\n",
        "\n",
        "* The ability to work in parallel with  NumPy array and Pandas DataFrame objects\n",
        "* Integration with other projects.\n",
        "* Distributed computing\n",
        "* Faster operation because of its low overhead and minimum serialisation\n",
        "* It runs resiliently on clusters with thousands of cores\n",
        "* Real-time feedback and diagnostics"
      ],
      "id": "novel-franchise"
    },
    {
      "cell_type": "markdown",
      "metadata": {
        "id": "l_JB9kotQaHb"
      },
      "source": [
        "### Parallel Processing\n",
        "\n",
        "Parallel processing refers to executing multiple tasks at the same time, using multiple processors in the same machine.\n",
        "\n",
        "Generally, the code is executed in sequence, one task at a time. However, if you have a complex code that takes a long time to run but has no logic dependency on each other then instead of waiting for the previous task to complete, we compute multiple steps simultaneously. This lets you take advantage of the available processing power, which is the case in most modern computers, thereby reducing the total time taken.\n",
        "\n",
        "To learn more about dask, follow the link [here](https://docs.dask.org/en/latest/).\n"
      ],
      "id": "l_JB9kotQaHb"
    },
    {
      "cell_type": "markdown",
      "source": [
        "### Setup Steps:"
      ],
      "metadata": {
        "id": "rKQ0Fvl_jNqU"
      },
      "id": "rKQ0Fvl_jNqU"
    },
    {
      "cell_type": "code",
      "metadata": {
        "id": "2YzfoPvJDiTX"
      },
      "source": [
        "#@title Please enter your registration id to start: { run: \"auto\", display-mode: \"form\" }\n",
        "Id = \"2304896\" #@param {type:\"string\"}"
      ],
      "execution_count": 1,
      "outputs": [],
      "id": "2YzfoPvJDiTX"
    },
    {
      "cell_type": "code",
      "metadata": {
        "id": "AjoZJWGErxGf"
      },
      "source": [
        "#@title Please enter your password (your registered phone number) to continue: { run: \"auto\", display-mode: \"form\" }\n",
        "password = \"9916583736\" #@param {type:\"string\"}"
      ],
      "execution_count": 2,
      "outputs": [],
      "id": "AjoZJWGErxGf"
    },
    {
      "cell_type": "code",
      "metadata": {
        "id": "WBPPuGmBlDIN",
        "cellView": "form",
        "colab": {
          "base_uri": "https://localhost:8080/",
          "height": 34
        },
        "outputId": "88ccb13b-884b-4fc7-bade-336e34ca3158"
      },
      "source": [
        "#@title Run this cell to complete the setup for this Notebook\n",
        "from IPython import get_ipython\n",
        "\n",
        "ipython = get_ipython()\n",
        "\n",
        "notebook= \"M8_AST_02_Dask_C\" #name of the notebook\n",
        "\n",
        "def setup():\n",
        "#  ipython.magic(\"sx pip3 install torch\")\n",
        "\n",
        "    ipython.magic(\"sx pip -qq install dask[complete]\")\n",
        "    ipython.magic(\"sx pip -qq install dask distributed\")\n",
        "    ipython.magic(\"sx pip -qq install mimesis==6.0.0\")\n",
        "    ipython.magic(\"sx pip -qq install dask\")\n",
        "    #ipython.magic(\"sx wget https://cdn.iisc.talentsprint.com/CDS/MiniProjects/BlackFriday.zip\")\n",
        "    #ipython.magic(\"sx unzip BlackFriday.zip\")\n",
        "    ipython.magic(\"sx wget https://cdn.iisc.talentsprint.com/CDS/Datasets/nycflights.zip\")\n",
        "    ipython.magic(\"sx unzip nycflights.zip\")\n",
        "    from IPython.display import HTML, display\n",
        "    display(HTML('<script src=\"https://dashboard.talentsprint.com/aiml/record_ip.html?traineeId={0}&recordId={1}\"></script>'.format(getId(),submission_id)))\n",
        "    print(\"Setup completed successfully\")\n",
        "    return\n",
        "\n",
        "def submit_notebook():\n",
        "    ipython.magic(\"notebook -e \"+ notebook + \".ipynb\")\n",
        "\n",
        "    import requests, json, base64, datetime\n",
        "\n",
        "    url = \"https://dashboard.talentsprint.com/xp/app/save_notebook_attempts\"\n",
        "    if not submission_id:\n",
        "      data = {\"id\" : getId(), \"notebook\" : notebook, \"mobile\" : getPassword()}\n",
        "      r = requests.post(url, data = data)\n",
        "      r = json.loads(r.text)\n",
        "\n",
        "      if r[\"status\"] == \"Success\":\n",
        "          return r[\"record_id\"]\n",
        "      elif \"err\" in r:\n",
        "        print(r[\"err\"])\n",
        "        return None\n",
        "      else:\n",
        "        print (\"Something is wrong, the notebook will not be submitted for grading\")\n",
        "        return None\n",
        "\n",
        "    elif getAnswer() and getComplexity() and getAdditional() and getConcepts() and getComments() and getMentorSupport():\n",
        "      f = open(notebook + \".ipynb\", \"rb\")\n",
        "      file_hash = base64.b64encode(f.read())\n",
        "\n",
        "      data = {\"complexity\" : Complexity, \"additional\" :Additional,\n",
        "              \"concepts\" : Concepts, \"record_id\" : submission_id,\n",
        "              \"answer\" : Answer, \"id\" : Id, \"file_hash\" : file_hash,\n",
        "              \"notebook\" : notebook,\n",
        "              \"feedback_experiments_input\" : Comments,\n",
        "              \"feedback_mentor_support\": Mentor_support}\n",
        "      r = requests.post(url, data = data)\n",
        "      r = json.loads(r.text)\n",
        "      if \"err\" in r:\n",
        "        print(r[\"err\"])\n",
        "        return None\n",
        "      else:\n",
        "        print(\"Your submission is successful.\")\n",
        "        print(\"Ref Id:\", submission_id)\n",
        "        print(\"Date of submission: \", r[\"date\"])\n",
        "        print(\"Time of submission: \", r[\"time\"])\n",
        "        print(\"View your submissions: https://aimlops-iisc.talentsprint.com/notebook_submissions\")\n",
        "        #print(\"For any queries/discrepancies, please connect with mentors through the chat icon in LMS dashboard.\")\n",
        "        return submission_id\n",
        "    else: submission_id\n",
        "\n",
        "\n",
        "def getAdditional():\n",
        "  try:\n",
        "    if not Additional:\n",
        "      raise NameError\n",
        "    else:\n",
        "      return Additional\n",
        "  except NameError:\n",
        "    print (\"Please answer Additional Question\")\n",
        "    return None\n",
        "\n",
        "def getComplexity():\n",
        "  try:\n",
        "    if not Complexity:\n",
        "      raise NameError\n",
        "    else:\n",
        "      return Complexity\n",
        "  except NameError:\n",
        "    print (\"Please answer Complexity Question\")\n",
        "    return None\n",
        "\n",
        "def getConcepts():\n",
        "  try:\n",
        "    if not Concepts:\n",
        "      raise NameError\n",
        "    else:\n",
        "      return Concepts\n",
        "  except NameError:\n",
        "    print (\"Please answer Concepts Question\")\n",
        "    return None\n",
        "\n",
        "\n",
        "# def getWalkthrough():\n",
        "#   try:\n",
        "#     if not Walkthrough:\n",
        "#       raise NameError\n",
        "#     else:\n",
        "#       return Walkthrough\n",
        "#   except NameError:\n",
        "#     print (\"Please answer Walkthrough Question\")\n",
        "#     return None\n",
        "\n",
        "def getComments():\n",
        "  try:\n",
        "    if not Comments:\n",
        "      raise NameError\n",
        "    else:\n",
        "      return Comments\n",
        "  except NameError:\n",
        "    print (\"Please answer Comments Question\")\n",
        "    return None\n",
        "\n",
        "\n",
        "def getMentorSupport():\n",
        "  try:\n",
        "    if not Mentor_support:\n",
        "      raise NameError\n",
        "    else:\n",
        "      return Mentor_support\n",
        "  except NameError:\n",
        "    print (\"Please answer Mentor support Question\")\n",
        "    return None\n",
        "\n",
        "def getAnswer():\n",
        "  try:\n",
        "    if not Answer:\n",
        "      raise NameError\n",
        "    else:\n",
        "      return Answer\n",
        "  except NameError:\n",
        "    print (\"Please answer Question\")\n",
        "    return None\n",
        "\n",
        "\n",
        "def getId():\n",
        "  try:\n",
        "    return Id if Id else None\n",
        "  except NameError:\n",
        "    return None\n",
        "\n",
        "def getPassword():\n",
        "  try:\n",
        "    return password if password else None\n",
        "  except NameError:\n",
        "    return None\n",
        "\n",
        "submission_id = None\n",
        "### Setup\n",
        "if getPassword() and getId():\n",
        "  submission_id = submit_notebook()\n",
        "  if submission_id:\n",
        "    setup()\n",
        "else:\n",
        "  print (\"Please complete Id and Password cells before running setup\")\n",
        "\n"
      ],
      "execution_count": 3,
      "outputs": [
        {
          "output_type": "display_data",
          "data": {
            "text/plain": [
              "<IPython.core.display.HTML object>"
            ],
            "text/html": [
              "<script src=\"https://dashboard.talentsprint.com/aiml/record_ip.html?traineeId=2304896&recordId=8334\"></script>"
            ]
          },
          "metadata": {}
        },
        {
          "output_type": "stream",
          "name": "stdout",
          "text": [
            "Setup completed successfully\n"
          ]
        }
      ],
      "id": "WBPPuGmBlDIN"
    },
    {
      "cell_type": "markdown",
      "metadata": {
        "id": "amber-breast"
      },
      "source": [
        "#### Importing required packages"
      ],
      "id": "amber-breast"
    },
    {
      "cell_type": "code",
      "source": [
        "!pip -q install dask-ml"
      ],
      "metadata": {
        "id": "-UqST-kSVE93",
        "colab": {
          "base_uri": "https://localhost:8080/"
        },
        "outputId": "c93a659d-9def-49de-8b7a-01c5fc2b437a"
      },
      "id": "-UqST-kSVE93",
      "execution_count": 4,
      "outputs": [
        {
          "output_type": "stream",
          "name": "stdout",
          "text": [
            "\u001b[2K   \u001b[90m━━━━━━━━━━━━━━━━━━━━━━━━━━━━━━━━━━━━━━━━\u001b[0m \u001b[32m149.8/149.8 kB\u001b[0m \u001b[31m4.3 MB/s\u001b[0m eta \u001b[36m0:00:00\u001b[0m\n",
            "\u001b[2K   \u001b[90m━━━━━━━━━━━━━━━━━━━━━━━━━━━━━━━━━━━━━━━━\u001b[0m \u001b[32m237.3/237.3 kB\u001b[0m \u001b[31m11.2 MB/s\u001b[0m eta \u001b[36m0:00:00\u001b[0m\n",
            "\u001b[?25h"
          ]
        }
      ]
    },
    {
      "cell_type": "code",
      "metadata": {
        "id": "marked-penny"
      },
      "source": [
        "import os                        # provides interaction with operating system\n",
        "import dask\n",
        "import dask.array as da          # for handling large arrays\n",
        "from dask import delayed         # import the delayed function of dask\n",
        "import dask.dataframe as dd      # library to import Dask DataFrame\n",
        "import dask.bag as db            # import the bag from dask\n",
        "from dask_ml.linear_model import LinearRegression\n",
        "import json                      # importing JSON files\n",
        "import numpy as np\n",
        "import pandas as pd\n",
        "from time import sleep"
      ],
      "id": "marked-penny",
      "execution_count": 5,
      "outputs": []
    },
    {
      "cell_type": "markdown",
      "metadata": {
        "id": "disciplinary-merchant"
      },
      "source": [
        "**Implementation of Parallel Processing with Dask (Basic Idea)**\n",
        "\n",
        "Here, we can compare the normal python function with dask delayed function at the time of execution"
      ],
      "id": "disciplinary-merchant"
    },
    {
      "cell_type": "code",
      "metadata": {
        "id": "interstate-excuse"
      },
      "source": [
        "# define apply_discount function and pass a variable x\n",
        "def apply_discount(x):\n",
        "  sleep(1)\n",
        "  # discount of 20 %\n",
        "  x=x-0.2*x\n",
        "  return x\n",
        "\n",
        "# define two variables a, b and add them\n",
        "def get_total(a,b):\n",
        "  sleep(1)\n",
        "  return a+b\n",
        "\n",
        "# define function for total price of items\n",
        "def get_total_price(x,y):\n",
        "  sleep(1)\n",
        "  a=apply_discount(x)\n",
        "  b=apply_discount(y)\n",
        "  get_total(a,b)"
      ],
      "id": "interstate-excuse",
      "execution_count": 6,
      "outputs": []
    },
    {
      "cell_type": "markdown",
      "metadata": {
        "id": "fifth-lightweight"
      },
      "source": [
        "Given a number, the above code simply applies a 20 percent discount on price and then adds them. Inserted a sleep function explicitly, both the functions take 1 sec to execute."
      ],
      "id": "fifth-lightweight"
    },
    {
      "cell_type": "code",
      "metadata": {
        "id": "polished-mailing",
        "colab": {
          "base_uri": "https://localhost:8080/"
        },
        "outputId": "1c88cccc-6a86-4e56-c349-3dc02b8dd330"
      },
      "source": [
        "%%time\n",
        "\n",
        "# apply discount of 20 % on 100\n",
        "x = apply_discount(100)\n",
        "\n",
        "# apply a discount of 20 % on 200\n",
        "y = apply_discount(200)\n",
        "\n",
        "# add a and b\n",
        "z = get_total_price(x,y)"
      ],
      "id": "polished-mailing",
      "execution_count": 7,
      "outputs": [
        {
          "output_type": "stream",
          "name": "stdout",
          "text": [
            "CPU times: user 25.1 ms, sys: 4.75 ms, total: 29.9 ms\n",
            "Wall time: 6.01 s\n"
          ]
        }
      ]
    },
    {
      "cell_type": "markdown",
      "metadata": {
        "id": "monthly-chocolate"
      },
      "source": [
        "We have recorded the time taken for this execution using %%time as shown. You can observe that time taken is ~6.01 seconds when it is executed sequentially. Now, let’s see how to use dask.delayed to reduce this time."
      ],
      "id": "monthly-chocolate"
    },
    {
      "cell_type": "markdown",
      "metadata": {
        "id": "hispanic-newport"
      },
      "source": [
        "Now, you can transform the functions apply_discount() and get_total_price(). You can use delayed() function to wrap the function calls that you want to turn into tasks."
      ],
      "id": "hispanic-newport"
    },
    {
      "cell_type": "code",
      "metadata": {
        "id": "moved-deviation",
        "colab": {
          "base_uri": "https://localhost:8080/"
        },
        "outputId": "e007247f-7a43-470c-edf2-b9e7bdc5367f"
      },
      "source": [
        "%%time\n",
        "\n",
        "# Wrapping all the function calls using dask.delayed\n",
        "x = delayed(apply_discount)(100)\n",
        "y = delayed(apply_discount)(200)\n",
        "z = delayed(get_total_price)(x, y)"
      ],
      "id": "moved-deviation",
      "execution_count": 8,
      "outputs": [
        {
          "output_type": "stream",
          "name": "stdout",
          "text": [
            "CPU times: user 366 µs, sys: 0 ns, total: 366 µs\n",
            "Wall time: 337 µs\n"
          ]
        }
      ]
    },
    {
      "cell_type": "markdown",
      "metadata": {
        "id": "heavy-compatibility"
      },
      "source": [
        "**What does dask.delayed do?**\n",
        "\n",
        "The Dask delayed function decorates your functions so that they operate lazily. Rather than executing your function immediately, it will defer execution, placing the function and its arguments into a task graph. It wraps a function or object to produce a Delayed.\n"
      ],
      "id": "heavy-compatibility"
    },
    {
      "cell_type": "code",
      "metadata": {
        "id": "compact-fortune",
        "colab": {
          "base_uri": "https://localhost:8080/",
          "height": 739
        },
        "outputId": "becdd3c1-d2db-40c4-f555-ab14b98ccf88"
      },
      "source": [
        "!pip install graphviz\n",
        "# visualize in graphical way\n",
        "z.visualize()"
      ],
      "id": "compact-fortune",
      "execution_count": 11,
      "outputs": [
        {
          "output_type": "stream",
          "name": "stdout",
          "text": [
            "Collecting graphviz\n",
            "  Downloading graphviz-0.20.3-py3-none-any.whl.metadata (12 kB)\n",
            "Downloading graphviz-0.20.3-py3-none-any.whl (47 kB)\n",
            "\u001b[2K   \u001b[90m━━━━━━━━━━━━━━━━━━━━━━━━━━━━━━━━━━━━━━━━\u001b[0m \u001b[32m47.1/47.1 kB\u001b[0m \u001b[31m1.7 MB/s\u001b[0m eta \u001b[36m0:00:00\u001b[0m\n",
            "\u001b[?25hInstalling collected packages: graphviz\n",
            "Successfully installed graphviz-0.20.3\n"
          ]
        },
        {
          "output_type": "execute_result",
          "data": {
            "image/png": "[encoded data removed]",
            "text/plain": [
              "<IPython.core.display.Image object>"
            ]
          },
          "metadata": {},
          "execution_count": 11
        }
      ]
    },
    {
      "cell_type": "markdown",
      "metadata": {
        "id": "serious-message"
      },
      "source": [
        "Clearly, from the above image, you can see there are two instances of apply_discount() function called in parallel. This is an opportunity to save time and processing power by executing them simultaneously.\n",
        "\n",
        "Till now, the task graph is computed. To actually execute it, let’s call the compute() method of z."
      ],
      "id": "serious-message"
    },
    {
      "cell_type": "code",
      "metadata": {
        "id": "loaded-radar",
        "colab": {
          "base_uri": "https://localhost:8080/"
        },
        "outputId": "14b4e550-f8fe-416f-e283-9cb5e58847cd"
      },
      "source": [
        "%%time\n",
        "\n",
        "# compute() is used to show the result in dask\n",
        "z.compute()"
      ],
      "id": "loaded-radar",
      "execution_count": 12,
      "outputs": [
        {
          "output_type": "stream",
          "name": "stdout",
          "text": [
            "CPU times: user 19.8 ms, sys: 5.62 ms, total: 25.4 ms\n",
            "Wall time: 5.01 s\n"
          ]
        }
      ]
    },
    {
      "cell_type": "markdown",
      "metadata": {
        "id": "surrounded-vitamin"
      },
      "source": [
        "**Note**: When we create an object, it is just a blueprint until you call `compute()`. That is when the job gets distributed to all the workers, and the actual function gets called, or concrete values are generated."
      ],
      "id": "surrounded-vitamin"
    },
    {
      "cell_type": "markdown",
      "metadata": {
        "id": "instructional-edinburgh"
      },
      "source": [
        "The total time taken has been reduced. This is the basic concept of parallel computing. Dask makes it very convenient.\n",
        "\n",
        "To know more about delayed function, click [here](https://docs.dask.org/en/latest/delayed.html)"
      ],
      "id": "instructional-edinburgh"
    },
    {
      "cell_type": "markdown",
      "metadata": {
        "id": "XK77RalhRLVX"
      },
      "source": [
        "### **Arrays**\n",
        "\n",
        "![dask_array](https://cdn.iisc.talentsprint.com/CDS/Images/Dask_array.JPG)\n",
        "\n",
        "Dask array provides a parallel, larger-than-memory, n-dimensional array using blocked algorithms."
      ],
      "id": "XK77RalhRLVX"
    },
    {
      "cell_type": "markdown",
      "metadata": {
        "id": "refined-wisconsin"
      },
      "source": [
        "* Parallel: Uses all of the cores on your computer\n",
        "\n",
        "* Larger-than-memory: Lets you work on datasets that are larger than your available memory by breaking up your array into many small pieces, operating on those pieces in an order that minimizes the memory footprint of your computation, and effectively streaming data from disk.\n",
        "\n",
        "* Blocked Algorithms: Performs large computations by performing many smaller computations\n",
        "\n",
        "\n",
        "In the below example, dask arrays and normal numpy arrays are used and compared based on the time taken for execution.\n",
        "\n",
        "1. Construct a 40000x40000 array of normally distributed random values broken up into 1000x1000 sized chunks\n",
        "\n",
        "2. Take the mean along one axis\n",
        "\n",
        "3. Take every 100th element\n",
        "\n",
        "To know more about dask arrays, click [here](https://docs.dask.org/en/latest/array.html)."
      ],
      "id": "refined-wisconsin"
    },
    {
      "cell_type": "markdown",
      "metadata": {
        "id": "insured-shaft"
      },
      "source": [
        "Creating an array with random normal distribution"
      ],
      "id": "insured-shaft"
    },
    {
      "cell_type": "code",
      "metadata": {
        "id": "antique-strengthening"
      },
      "source": [
        "# creating a random normal dask array with a mean value of 20 and sigma value of 0.2\n",
        "# 1600 million element array with 1000 by 1000 chunks\n",
        "x = da.random.normal(20, 0.2, size=(40000, 40000),\n",
        "                              chunks=(1000, 1000))   # Cut into 1000x1000 sized chunks\n",
        "# Perform NumPy-style operations to calculate mean along the rows (axis=0)\n",
        "y = x.mean(axis=0)[::100]"
      ],
      "id": "antique-strengthening",
      "execution_count": 13,
      "outputs": []
    },
    {
      "cell_type": "markdown",
      "metadata": {
        "id": "original-orbit"
      },
      "source": [
        "Computing the mean of x and capturing the time using the magical command"
      ],
      "id": "original-orbit"
    },
    {
      "cell_type": "code",
      "metadata": {
        "id": "WDn-xXVz9kCq",
        "colab": {
          "base_uri": "https://localhost:8080/"
        },
        "outputId": "0120cdd5-d45d-4ce1-b254-3ed271c3aa89"
      },
      "source": [
        "%%time\n",
        "# computing the mean of x\n",
        "y.compute()"
      ],
      "id": "WDn-xXVz9kCq",
      "execution_count": 14,
      "outputs": [
        {
          "output_type": "stream",
          "name": "stdout",
          "text": [
            "CPU times: user 54.6 s, sys: 1.54 s, total: 56.1 s\n",
            "Wall time: 2.99 s\n"
          ]
        },
        {
          "output_type": "execute_result",
          "data": {
            "text/plain": [
              "array([20.00075717, 20.00043871, 19.99969306, 19.99935017, 19.999628  ,\n",
              "       20.00028347, 20.00070437, 19.99937825, 19.99987692, 19.99836769,\n",
              "       20.0010958 , 20.00026147, 20.00093059, 19.99934273, 19.99878155,\n",
              "       19.99954124, 20.00103424, 20.00058687, 20.00116095, 20.00154602,\n",
              "       19.99962327, 20.00096338, 19.99962961, 20.00034249, 20.00111579,\n",
              "       19.99867321, 19.99843542, 20.00096483, 19.99885814, 20.00024119,\n",
              "       19.99964997, 20.00010519, 19.9997444 , 19.99865049, 20.00085302,\n",
              "       20.00189394, 20.0014498 , 20.00097232, 20.00119514, 19.99944504,\n",
              "       19.99957358, 19.9986461 , 20.00021522, 20.00139303, 20.00176893,\n",
              "       19.9996405 , 20.00104748, 20.0007478 , 20.0011613 , 19.99976717,\n",
              "       20.00123219, 19.99912616, 19.99998507, 20.00178839, 20.00115641,\n",
              "       19.99892627, 20.00072011, 19.9985266 , 20.00076221, 20.0012224 ,\n",
              "       19.99985984, 19.99992814, 20.00175927, 19.99910847, 20.00019288,\n",
              "       19.99913107, 19.99939206, 19.99906175, 20.00095022, 20.0000664 ,\n",
              "       19.99967692, 20.00095591, 19.99911287, 19.99984599, 20.00115039,\n",
              "       20.00024345, 20.00178068, 20.00035182, 19.99991444, 19.99918588,\n",
              "       20.00002194, 19.99919822, 19.99904809, 19.99994318, 20.00017999,\n",
              "       20.0009937 , 19.9988544 , 20.00049663, 20.00080719, 19.99994709,\n",
              "       19.99989019, 20.0007946 , 19.99970968, 20.00013187, 20.0011968 ,\n",
              "       20.0004261 , 20.001543  , 20.00114491, 19.99958685, 20.00070595,\n",
              "       19.99882315, 19.9990801 , 19.99922152, 20.00103387, 20.00044618,\n",
              "       20.00112943, 19.99935821, 20.00054802, 20.00041663, 19.99895896,\n",
              "       20.00020241, 19.99995024, 20.00208436, 19.99983725, 20.0001038 ,\n",
              "       20.00051744, 19.99921869, 19.99975175, 19.99929395, 20.00040394,\n",
              "       19.99957177, 20.00098388, 19.99887832, 20.00122916, 20.00027757,\n",
              "       19.99839898, 20.00090853, 19.99905272, 20.00063579, 19.99926536,\n",
              "       19.99959818, 19.99930482, 19.99973373, 19.99972539, 19.99984127,\n",
              "       20.00051077, 20.00049214, 20.0005942 , 20.00032962, 20.00018255,\n",
              "       19.99917016, 20.00127854, 20.00026057, 20.00066513, 20.00006841,\n",
              "       19.99890833, 19.99799896, 19.99991424, 19.99826241, 19.99919983,\n",
              "       19.99985112, 20.00161265, 20.00071658, 19.99902199, 19.99861284,\n",
              "       19.99845807, 19.99849739, 20.00152156, 19.99867319, 20.00024313,\n",
              "       19.9995475 , 19.99900008, 20.00079429, 19.9995437 , 19.9998016 ,\n",
              "       19.99958804, 20.00027266, 19.99967149, 20.00041352, 20.00111111,\n",
              "       19.99907828, 19.99965353, 20.00030218, 19.99920897, 20.00068944,\n",
              "       19.99857195, 19.9997463 , 20.00041476, 19.99977778, 19.99805212,\n",
              "       20.00044866, 19.9997126 , 20.00138945, 20.00036101, 19.99990768,\n",
              "       19.99999682, 20.00049954, 19.999877  , 19.99760316, 20.00025762,\n",
              "       20.00025342, 20.00044876, 19.99969411, 20.00097344, 19.99954436,\n",
              "       20.0008712 , 19.99844961, 20.0001748 , 20.00051224, 20.00115003,\n",
              "       20.00050434, 20.00048525, 20.00077495, 19.99916912, 20.00070233,\n",
              "       20.00172828, 19.99784978, 19.99880374, 19.99981806, 19.99992783,\n",
              "       20.00037278, 19.99998681, 20.00083488, 19.99908868, 20.00046092,\n",
              "       20.00057729, 20.00208409, 19.9993143 , 19.99911435, 20.00131242,\n",
              "       20.00135909, 20.00095654, 20.00000429, 19.99926346, 19.99883842,\n",
              "       20.00064156, 19.99974025, 19.99896708, 19.99994709, 19.9980274 ,\n",
              "       19.99819481, 20.0005509 , 19.99878653, 19.9992963 , 20.00099205,\n",
              "       19.99880315, 20.00150118, 19.99783674, 20.0019132 , 19.99899389,\n",
              "       19.99889343, 20.00285325, 20.00007507, 19.99911422, 19.99952238,\n",
              "       20.00099837, 20.00259517, 19.99947673, 19.99954938, 19.99970293,\n",
              "       20.00063457, 20.00065885, 19.99999649, 19.99986044, 20.00040949,\n",
              "       20.00113457, 20.00041213, 19.99832826, 20.00028513, 19.9989702 ,\n",
              "       20.00118008, 19.99862714, 20.00254863, 19.99969043, 19.99909028,\n",
              "       19.99878168, 20.00055926, 20.00047767, 19.99986713, 19.99993366,\n",
              "       20.00161445, 20.00090231, 19.99947168, 19.99966536, 19.99924291,\n",
              "       19.99985513, 19.99883439, 19.99999918, 20.00077696, 19.99957535,\n",
              "       20.00105964, 20.00155704, 19.99987789, 20.00086488, 20.00069392,\n",
              "       19.99922658, 20.00155929, 19.99987106, 20.00021964, 20.00018045,\n",
              "       19.99840207, 20.00111669, 20.00014242, 19.999992  , 20.00246389,\n",
              "       20.0000861 , 20.00079486, 20.00199558, 19.99987137, 20.00247541,\n",
              "       20.00200993, 20.00272903, 20.00012475, 20.00006569, 19.99913245,\n",
              "       20.00084292, 19.99938924, 20.00055144, 20.00124657, 20.00094958,\n",
              "       19.99987045, 19.99777793, 19.9993137 , 20.00067031, 19.99903951,\n",
              "       20.00032593, 20.0013283 , 19.99989402, 20.00297846, 20.00098267,\n",
              "       19.99969955, 20.00049379, 19.99782643, 20.00121933, 20.0018539 ,\n",
              "       19.99919941, 19.99914299, 20.00095258, 19.99980152, 20.00081304,\n",
              "       19.99896011, 20.00053678, 20.00094195, 20.00163798, 20.00084841,\n",
              "       20.00108959, 20.00030483, 19.99994265, 20.00009588, 19.99963221,\n",
              "       19.99757566, 20.00100174, 20.00000541, 20.00120018, 19.99873405,\n",
              "       19.99907842, 19.99903618, 20.00157863, 19.99986424, 19.99910124,\n",
              "       19.99937547, 20.00044261, 19.99948938, 20.00115597, 20.00082433,\n",
              "       19.99841655, 19.9990774 , 20.00182157, 20.00106683, 20.00172147,\n",
              "       19.99957215, 19.99935951, 20.00028941, 20.0029979 , 20.00077903,\n",
              "       20.00064006, 20.00037301, 20.00068667, 19.99953866, 20.00049857,\n",
              "       19.99976678, 20.00060974, 20.00021889, 19.99947971, 19.99954558,\n",
              "       19.99990674, 19.99802036, 19.99932846, 19.99845459, 19.99985017,\n",
              "       19.99745323, 20.00161498, 20.00152108, 19.99954348, 20.00134751,\n",
              "       20.00127436, 20.00100402, 20.00078219, 20.00080861, 19.9987703 ,\n",
              "       19.99938942, 19.99933457, 20.00018904, 20.00066213, 20.00024362,\n",
              "       19.99961532, 20.00229273, 20.0000704 , 20.00004896, 19.99873472])"
            ]
          },
          "metadata": {},
          "execution_count": 14
        }
      ]
    },
    {
      "cell_type": "markdown",
      "metadata": {
        "id": "virtual-communications"
      },
      "source": [
        "Dask.array is a NumPy-like library that operates on large datasets that don’t fit into memory. It extends beyond the linear problems to full N-Dimensional algorithms and a decent subset of the NumPy interface.\n",
        "\n",
        "Create ``dask.array`` object\n",
        "\n",
        "We can create a `dask.array` Array object with the `da.from_array` function. This function accepts\n",
        "\n",
        "1. data: Any object that supports NumPy slicing\n",
        "\n",
        "2. [chunks](https://docs.dask.org/en/latest/array-chunks.html): A chunk size defines the size of the numpy arrays\n"
      ],
      "id": "virtual-communications"
    },
    {
      "cell_type": "markdown",
      "metadata": {
        "id": "white-plane"
      },
      "source": [
        "**Manipulate ``dask.array`` object as a numpy array**\n",
        "\n",
        "Now we have an Array and we perform standard numpy-style computations that include arithmetic, mathematics, slicing, reductions, etc.\n",
        "\n",
        "The interface is familiar, but the actual work is different. dask_array.sum() does not do the same thing as numpy_array.sum().\n",
        "\n",
        "**What’s the difference?**\n",
        "\n",
        "dask_array.sum() builds an expression of the computation. It does not do the computation yet. numpy_array.sum() computes the sum immediately.\n",
        "\n",
        "*Why the difference?*\n",
        "\n",
        "Dask arrays are split into chunks. Each chunk must have computations run on that chunk explicitly. If the desired answer comes from a small slice of the entire dataset, running the computation overall data would be wasteful of CPU and memory.\n",
        "\n"
      ],
      "id": "white-plane"
    },
    {
      "cell_type": "markdown",
      "metadata": {
        "id": "precise-barcelona"
      },
      "source": [
        "#### Performance comparison\n",
        "\n",
        "Let's create a random numpy array of normal distribution.\n"
      ],
      "id": "precise-barcelona"
    },
    {
      "cell_type": "code",
      "metadata": {
        "id": "mobile-triple",
        "colab": {
          "base_uri": "https://localhost:8080/"
        },
        "outputId": "be47cd5e-4923-47c7-8c4d-853a1982fbeb"
      },
      "source": [
        "%%time\n",
        "# create a normal distribution array with 400 million element using numpy\n",
        "x = np.random.normal(20, 0.2, size=(20000, 20000))\n",
        "# calculate the mean\n",
        "y = x.mean(axis=0)[::100]\n",
        "y"
      ],
      "id": "mobile-triple",
      "execution_count": 15,
      "outputs": [
        {
          "output_type": "stream",
          "name": "stdout",
          "text": [
            "CPU times: user 10.6 s, sys: 632 ms, total: 11.2 s\n",
            "Wall time: 11.1 s\n"
          ]
        },
        {
          "output_type": "execute_result",
          "data": {
            "text/plain": [
              "array([20.00118947, 19.99956139, 20.00021605, 20.00098227, 19.99900012,\n",
              "       20.00067966, 20.00063287, 20.00108761, 20.00100652, 20.00154383,\n",
              "       19.9966889 , 19.99814796, 19.99750725, 20.00109012, 19.99846265,\n",
              "       19.99943034, 20.00299143, 19.99996547, 19.9991493 , 19.99997939,\n",
              "       20.00395932, 19.99940008, 19.99904986, 20.00094938, 20.00283527,\n",
              "       19.99732831, 20.00033741, 20.00166543, 20.00070594, 19.9990286 ,\n",
              "       20.000879  , 19.99851333, 19.99928853, 19.99720243, 19.99974635,\n",
              "       20.0018981 , 20.00064506, 20.00092581, 19.99952354, 20.00101717,\n",
              "       20.00206297, 19.99797267, 20.00034287, 19.99809896, 19.99917136,\n",
              "       19.99943561, 19.9990945 , 20.0008309 , 19.9987002 , 20.0005922 ,\n",
              "       19.99858364, 20.00306659, 20.00195979, 19.99993728, 20.00036522,\n",
              "       19.99851985, 20.00029499, 20.00163701, 20.00033479, 19.99820032,\n",
              "       20.00010648, 20.00029321, 20.00009297, 20.00009181, 20.00243163,\n",
              "       19.99776696, 20.00212807, 20.00077633, 20.00034628, 20.00124601,\n",
              "       20.000802  , 20.00265442, 19.99906163, 19.99881275, 20.00128064,\n",
              "       19.99838564, 19.99998755, 19.99701849, 20.00040637, 20.00271434,\n",
              "       20.00074635, 19.99884192, 20.00109468, 19.99717808, 20.00075439,\n",
              "       20.00031959, 20.00052174, 19.99752746, 20.00137735, 20.0008201 ,\n",
              "       19.99950472, 20.00077471, 20.00119962, 20.00124684, 20.00013249,\n",
              "       19.99930649, 20.00094724, 19.9998061 , 19.99874682, 19.99840576,\n",
              "       20.00021466, 20.00196338, 19.99978876, 19.99984042, 19.99920761,\n",
              "       20.00182001, 20.00044908, 19.99942441, 19.99860517, 19.99692663,\n",
              "       20.00155644, 19.99970437, 20.00064075, 20.0018989 , 19.99980276,\n",
              "       19.99854104, 19.99915166, 19.99703835, 19.99829264, 19.99918751,\n",
              "       19.99980222, 19.99993824, 19.99890422, 19.99894729, 19.99922246,\n",
              "       20.00219513, 19.99998526, 20.00045645, 19.99909965, 20.00284125,\n",
              "       20.00104363, 19.99971302, 19.99698968, 20.00056375, 20.00282262,\n",
              "       20.00186441, 20.00010033, 20.00062802, 19.9996599 , 19.9999149 ,\n",
              "       20.00058869, 19.9984436 , 19.99992476, 20.00015266, 20.00084362,\n",
              "       20.00198207, 20.00293609, 19.99988881, 20.00063235, 20.00130105,\n",
              "       20.00082176, 19.99966568, 19.99898451, 20.00120191, 19.99959546,\n",
              "       20.0012951 , 19.99892699, 19.99903932, 20.00099469, 19.99961961,\n",
              "       20.00113028, 20.00084592, 20.00125556, 19.99812204, 20.00112427,\n",
              "       20.00063123, 20.00059784, 20.00080386, 20.00233918, 20.00046703,\n",
              "       19.99891649, 20.00001919, 19.99945694, 20.00069603, 19.99656734,\n",
              "       20.00093835, 20.00042289, 19.99872415, 20.00191727, 19.99952087,\n",
              "       20.00096018, 19.99969941, 20.00039563, 20.00015064, 20.00069409,\n",
              "       20.00193131, 20.00089465, 19.99932743, 19.99722337, 19.99856318,\n",
              "       19.99960884, 19.99951375, 20.00152363, 19.99752749, 20.00018001,\n",
              "       20.00124214, 19.99910272, 19.99989032, 20.00029327, 19.99799606])"
            ]
          },
          "metadata": {},
          "execution_count": 15
        }
      ]
    },
    {
      "cell_type": "markdown",
      "metadata": {
        "id": "capital-villa"
      },
      "source": [
        "\n",
        "Now Let's create a random dask array with normal distribution."
      ],
      "id": "capital-villa"
    },
    {
      "cell_type": "code",
      "metadata": {
        "id": "involved-festival",
        "colab": {
          "base_uri": "https://localhost:8080/"
        },
        "outputId": "5994c9c1-bb6f-490c-ccf0-23a9aecfd04c"
      },
      "source": [
        "%%time\n",
        "# created the same array as above and made chunks of size 1000x1000\n",
        "x = da.random.normal(20, 0.2, size=(20000, 20000), chunks=(1000, 1000))\n",
        "# calculate the mean\n",
        "y = x.mean(axis=0)[::100]\n",
        "y.compute()"
      ],
      "id": "involved-festival",
      "execution_count": 16,
      "outputs": [
        {
          "output_type": "stream",
          "name": "stdout",
          "text": [
            "CPU times: user 14.8 s, sys: 296 ms, total: 15.1 s\n",
            "Wall time: 684 ms\n"
          ]
        },
        {
          "output_type": "execute_result",
          "data": {
            "text/plain": [
              "array([20.00222007, 20.00045527, 20.00037525, 20.0006571 , 20.00018207,\n",
              "       19.99740635, 19.99758307, 20.0002357 , 19.99960191, 20.00033339,\n",
              "       19.99808708, 19.99858985, 19.9974495 , 19.9984354 , 19.99876327,\n",
              "       20.00217448, 20.00014811, 20.00070825, 19.99933726, 19.99914387,\n",
              "       20.00030214, 19.9975437 , 20.00047186, 20.00022066, 20.00085034,\n",
              "       20.00124613, 20.00064705, 19.99748751, 19.999235  , 20.00247553,\n",
              "       19.99958823, 19.99904635, 20.00043999, 19.99799522, 19.99974631,\n",
              "       20.00083183, 20.00028826, 19.99879042, 20.0009998 , 19.99989481,\n",
              "       20.00155068, 19.99889573, 20.00149336, 19.99873151, 19.99887229,\n",
              "       20.00032513, 19.99901767, 19.99815154, 20.00162848, 19.99845304,\n",
              "       20.00033844, 19.99844021, 20.00166979, 20.00389927, 20.00006572,\n",
              "       20.00252784, 19.99933548, 20.0026214 , 20.00139559, 20.00258597,\n",
              "       19.99772028, 19.99862519, 19.99788385, 19.99897102, 20.00146726,\n",
              "       19.99744937, 19.99894052, 19.99882142, 19.9966968 , 20.00012423,\n",
              "       20.00115328, 19.99850591, 20.00106644, 20.00093824, 19.99954231,\n",
              "       19.99788447, 19.99804307, 19.99958319, 20.00125061, 20.00013964,\n",
              "       19.99927248, 19.99794362, 20.00042159, 19.99989323, 20.00096285,\n",
              "       19.99862107, 20.00087404, 19.99811551, 19.99841978, 19.99961184,\n",
              "       20.00194655, 19.99986365, 20.00013919, 20.0023048 , 20.00013519,\n",
              "       19.99733645, 20.00062841, 19.99738731, 20.00086516, 19.99656499,\n",
              "       19.99586878, 20.00049235, 20.00305702, 20.00155147, 20.00141802,\n",
              "       20.00017259, 20.00265202, 19.99943004, 19.99979849, 19.9997021 ,\n",
              "       19.99949526, 20.00044872, 19.99783121, 19.99907426, 20.00013366,\n",
              "       19.99729723, 20.00003877, 19.99915737, 20.00117808, 20.00007358,\n",
              "       20.0006776 , 20.00024829, 19.99925859, 20.0021895 , 20.00131659,\n",
              "       20.00113187, 20.00091949, 19.99893994, 20.00037996, 19.99966822,\n",
              "       20.00017813, 19.99967938, 19.99997649, 20.00000639, 20.00100562,\n",
              "       19.99870683, 19.99992136, 20.00122378, 20.0015924 , 20.00213083,\n",
              "       20.00036926, 20.00263037, 19.99913025, 20.00234882, 19.99940217,\n",
              "       19.99933355, 19.99992959, 19.9995948 , 19.9983054 , 20.00126739,\n",
              "       20.00055165, 20.00164239, 20.00267823, 19.99922982, 20.00310377,\n",
              "       20.00116103, 19.99860604, 19.99630304, 19.99906912, 19.99809236,\n",
              "       19.99842598, 19.99821467, 20.00013592, 19.99792581, 20.00043915,\n",
              "       19.99936611, 20.0013168 , 19.99829897, 20.0006428 , 19.99979546,\n",
              "       19.99990292, 19.99918363, 20.0023395 , 20.00075377, 20.00305442,\n",
              "       19.99780904, 19.99870529, 20.00091712, 19.9988839 , 20.00255591,\n",
              "       19.99908736, 20.00151861, 20.00238625, 19.9997916 , 19.99825063,\n",
              "       19.99815825, 20.00148763, 19.99868518, 19.99773247, 19.99747647,\n",
              "       20.0006522 , 20.00007459, 19.99822107, 20.00159284, 19.99955254,\n",
              "       19.9982977 , 20.00115417, 20.0000348 , 19.99786887, 20.00255531])"
            ]
          },
          "metadata": {},
          "execution_count": 16
        }
      ]
    },
    {
      "cell_type": "markdown",
      "metadata": {
        "id": "found-reporter"
      },
      "source": [
        "Notice that the Dask array computation ran in ~13 seconds but used ~25 seconds of user CPU time. The numpy computation ran in ~19 seconds and used ~18 seconds of user CPU time.\n",
        "\n",
        "Dask finished faster but used more total CPU time because Dask was able to transparently parallelize the computation because of the chunk size."
      ],
      "id": "found-reporter"
    },
    {
      "cell_type": "markdown",
      "metadata": {
        "id": "0aDsiToL_G8b"
      },
      "source": [
        "Let us study another example on dask arrays."
      ],
      "id": "0aDsiToL_G8b"
    },
    {
      "cell_type": "code",
      "metadata": {
        "id": "5XRgC93P-4S_",
        "colab": {
          "base_uri": "https://localhost:8080/"
        },
        "outputId": "a499aa56-56be-437e-c1ec-d6173833691a"
      },
      "source": [
        "# define the shape of the array\n",
        "shape = (1000, 4000)\n",
        "ones_np = np.ones(shape)\n",
        "ones_np"
      ],
      "id": "5XRgC93P-4S_",
      "execution_count": 17,
      "outputs": [
        {
          "output_type": "execute_result",
          "data": {
            "text/plain": [
              "array([[1., 1., 1., ..., 1., 1., 1.],\n",
              "       [1., 1., 1., ..., 1., 1., 1.],\n",
              "       [1., 1., 1., ..., 1., 1., 1.],\n",
              "       ...,\n",
              "       [1., 1., 1., ..., 1., 1., 1.],\n",
              "       [1., 1., 1., ..., 1., 1., 1.],\n",
              "       [1., 1., 1., ..., 1., 1., 1.]])"
            ]
          },
          "metadata": {},
          "execution_count": 17
        }
      ]
    },
    {
      "cell_type": "markdown",
      "metadata": {
        "id": "EwCEJrZH_DnO"
      },
      "source": [
        "This array contains exactly 32 MB of data:"
      ],
      "id": "EwCEJrZH_DnO"
    },
    {
      "cell_type": "code",
      "metadata": {
        "id": "CNcUXl30_XV_",
        "colab": {
          "base_uri": "https://localhost:8080/"
        },
        "outputId": "2395bf82-d8ca-43bb-bbcc-27a999f5a88c"
      },
      "source": [
        "# print the memory of array created\n",
        "print('%.1f MB' % (ones_np.nbytes / 1e6))"
      ],
      "id": "CNcUXl30_XV_",
      "execution_count": 18,
      "outputs": [
        {
          "output_type": "stream",
          "name": "stdout",
          "text": [
            "32.0 MB\n"
          ]
        }
      ]
    },
    {
      "cell_type": "markdown",
      "metadata": {
        "id": "oHJCX0Jq_ldt"
      },
      "source": [
        "Now let’s create the same array using dask’s array interface.\n",
        "\n",
        "A crucial difference with dask is that we must specify the chunks argument. “Chunks” describes how the array is split up over many sub-arrays."
      ],
      "id": "oHJCX0Jq_ldt"
    },
    {
      "cell_type": "code",
      "metadata": {
        "id": "2vMwTmHo_shW",
        "colab": {
          "base_uri": "https://localhost:8080/",
          "height": 120
        },
        "outputId": "6ccb0f20-8c19-4d0c-f57f-33d817ba4f6c"
      },
      "source": [
        "# defining chunk in dask array\n",
        "chunk_shape = (1000, 1000)\n",
        "ones = da.ones(shape, chunks=chunk_shape)\n",
        "ones"
      ],
      "id": "2vMwTmHo_shW",
      "execution_count": 19,
      "outputs": [
        {
          "output_type": "execute_result",
          "data": {
            "text/plain": [
              "dask.array<ones_like, shape=(1000, 4000), dtype=float64, chunksize=(1000, 1000), chunktype=numpy.ndarray>"
            ],
            "text/html": [
              "<table>\n",
              "    <tr>\n",
              "        <td>\n",
              "            <table style=\"border-collapse: collapse;\">\n",
              "                <thead>\n",
              "                    <tr>\n",
              "                        <td> </td>\n",
              "                        <th> Array </th>\n",
              "                        <th> Chunk </th>\n",
              "                    </tr>\n",
              "                </thead>\n",
              "                <tbody>\n",
              "                    \n",
              "                    <tr>\n",
              "                        <th> Bytes </th>\n",
              "                        <td> 30.52 MiB </td>\n",
              "                        <td> 7.63 MiB </td>\n",
              "                    </tr>\n",
              "                    \n",
              "                    <tr>\n",
              "                        <th> Shape </th>\n",
              "                        <td> (1000, 4000) </td>\n",
              "                        <td> (1000, 1000) </td>\n",
              "                    </tr>\n",
              "                    <tr>\n",
              "                        <th> Dask graph </th>\n",
              "                        <td colspan=\"2\"> 4 chunks in 1 graph layer </td>\n",
              "                    </tr>\n",
              "                    <tr>\n",
              "                        <th> Data type </th>\n",
              "                        <td colspan=\"2\"> float64 numpy.ndarray </td>\n",
              "                    </tr>\n",
              "                </tbody>\n",
              "            </table>\n",
              "        </td>\n",
              "        <td>\n",
              "        <svg width=\"170\" height=\"92\" style=\"stroke:rgb(0,0,0);stroke-width:1\" >\n",
              "\n",
              "  <!-- Horizontal lines -->\n",
              "  <line x1=\"0\" y1=\"0\" x2=\"120\" y2=\"0\" style=\"stroke-width:2\" />\n",
              "  <line x1=\"0\" y1=\"42\" x2=\"120\" y2=\"42\" style=\"stroke-width:2\" />\n",
              "\n",
              "  <!-- Vertical lines -->\n",
              "  <line x1=\"0\" y1=\"0\" x2=\"0\" y2=\"42\" style=\"stroke-width:2\" />\n",
              "  <line x1=\"30\" y1=\"0\" x2=\"30\" y2=\"42\" />\n",
              "  <line x1=\"60\" y1=\"0\" x2=\"60\" y2=\"42\" />\n",
              "  <line x1=\"90\" y1=\"0\" x2=\"90\" y2=\"42\" />\n",
              "  <line x1=\"120\" y1=\"0\" x2=\"120\" y2=\"42\" style=\"stroke-width:2\" />\n",
              "\n",
              "  <!-- Colored Rectangle -->\n",
              "  <polygon points=\"0.0,0.0 120.0,0.0 120.0,42.89879552186203 0.0,42.89879552186203\" style=\"fill:#ECB172A0;stroke-width:0\"/>\n",
              "\n",
              "  <!-- Text -->\n",
              "  <text x=\"60.000000\" y=\"62.898796\" font-size=\"1.0rem\" font-weight=\"100\" text-anchor=\"middle\" >4000</text>\n",
              "  <text x=\"140.000000\" y=\"21.449398\" font-size=\"1.0rem\" font-weight=\"100\" text-anchor=\"middle\" transform=\"rotate(-90,140.000000,21.449398)\">1000</text>\n",
              "</svg>\n",
              "        </td>\n",
              "    </tr>\n",
              "</table>"
            ]
          },
          "metadata": {},
          "execution_count": 19
        }
      ]
    },
    {
      "cell_type": "markdown",
      "metadata": {
        "id": "JOvkTZkU_-Nr"
      },
      "source": [
        "Notice that we just see a symbolic representation of the array, including its shape, dtype, and chunk size. No data has been generated yet. When we call .compute() on a dask array, the computation is triggered, and the dask array becomes a numpy array."
      ],
      "id": "JOvkTZkU_-Nr"
    },
    {
      "cell_type": "code",
      "metadata": {
        "id": "1Ecr38LuAFfQ",
        "colab": {
          "base_uri": "https://localhost:8080/"
        },
        "outputId": "b265543f-a42f-48e0-c039-45d5fe86afd2"
      },
      "source": [
        "ones.compute()"
      ],
      "id": "1Ecr38LuAFfQ",
      "execution_count": 20,
      "outputs": [
        {
          "output_type": "execute_result",
          "data": {
            "text/plain": [
              "array([[1., 1., 1., ..., 1., 1., 1.],\n",
              "       [1., 1., 1., ..., 1., 1., 1.],\n",
              "       [1., 1., 1., ..., 1., 1., 1.],\n",
              "       ...,\n",
              "       [1., 1., 1., ..., 1., 1., 1.],\n",
              "       [1., 1., 1., ..., 1., 1., 1.],\n",
              "       [1., 1., 1., ..., 1., 1., 1.]])"
            ]
          },
          "metadata": {},
          "execution_count": 20
        }
      ]
    },
    {
      "cell_type": "markdown",
      "metadata": {
        "id": "DAl1yL0jAHYO"
      },
      "source": [
        "In order to understand what happened when we called .compute(), we can visualize the dask graph, the symbolic operations that make up the array"
      ],
      "id": "DAl1yL0jAHYO"
    },
    {
      "cell_type": "code",
      "metadata": {
        "id": "ABGAp0ohAKtP",
        "colab": {
          "base_uri": "https://localhost:8080/",
          "height": 256
        },
        "outputId": "db075eb8-b955-49df-8e6f-1e99b2c95b49"
      },
      "source": [
        "ones.visualize(format='svg')"
      ],
      "id": "ABGAp0ohAKtP",
      "execution_count": 21,
      "outputs": [
        {
          "output_type": "execute_result",
          "data": {
            "text/plain": [
              "<IPython.core.display.SVG object>"
            ],
            "image/svg+xml": "<svg xmlns=\"http://www.w3.org/2000/svg\" xmlns:xlink=\"http://www.w3.org/1999/xlink\" width=\"446pt\" height=\"176pt\" viewBox=\"0.00 0.00 446.19 176.19\">\n<g id=\"graph0\" class=\"graph\" transform=\"scale(1 1) rotate(0) translate(4 172.19)\">\n<title>%3</title>\n<polygon fill=\"white\" stroke=\"transparent\" points=\"-4,4 -4,-172.19 442.19,-172.19 442.19,4 -4,4\"/>\n<!-- &#45;1558030707400806681 -->\n<g id=\"node1\" class=\"node\">\n<title>-1558030707400806681</title>\n<ellipse fill=\"none\" stroke=\"black\" cx=\"48.1\" cy=\"-48.1\" rx=\"48.19\" ry=\"48.19\"/>\n<text text-anchor=\"middle\" x=\"48.1\" y=\"-44.4\" font-family=\"Helvetica,sans-Serif\" font-size=\"14.00\">ones_like</text>\n</g>\n<!-- 6648759952378276630 -->\n<g id=\"node2\" class=\"node\">\n<title>6648759952378276630</title>\n<polygon fill=\"none\" stroke=\"black\" points=\"75.1,-168.19 21.1,-168.19 21.1,-132.19 75.1,-132.19 75.1,-168.19\"/>\n<text text-anchor=\"middle\" x=\"48.1\" y=\"-146.49\" font-family=\"Helvetica,sans-Serif\" font-size=\"14.00\">(0, 0)</text>\n</g>\n<!-- &#45;1558030707400806681&#45;&gt;6648759952378276630 -->\n<g id=\"edge1\" class=\"edge\">\n<title>-1558030707400806681-&gt;6648759952378276630</title>\n<path fill=\"none\" stroke=\"black\" d=\"M48.1,-96.21C48.1,-105 48.1,-113.9 48.1,-121.84\"/>\n<polygon fill=\"black\" stroke=\"black\" points=\"44.6,-121.97 48.1,-131.97 51.6,-121.97 44.6,-121.97\"/>\n</g>\n<!-- 2681288465038085927 -->\n<g id=\"node3\" class=\"node\">\n<title>2681288465038085927</title>\n<ellipse fill=\"none\" stroke=\"black\" cx=\"162.1\" cy=\"-48.1\" rx=\"48.19\" ry=\"48.19\"/>\n<text text-anchor=\"middle\" x=\"162.1\" y=\"-44.4\" font-family=\"Helvetica,sans-Serif\" font-size=\"14.00\">ones_like</text>\n</g>\n<!-- 1755685923405580264 -->\n<g id=\"node4\" class=\"node\">\n<title>1755685923405580264</title>\n<polygon fill=\"none\" stroke=\"black\" points=\"189.1,-168.19 135.1,-168.19 135.1,-132.19 189.1,-132.19 189.1,-168.19\"/>\n<text text-anchor=\"middle\" x=\"162.1\" y=\"-146.49\" font-family=\"Helvetica,sans-Serif\" font-size=\"14.00\">(0, 1)</text>\n</g>\n<!-- 2681288465038085927&#45;&gt;1755685923405580264 -->\n<g id=\"edge2\" class=\"edge\">\n<title>2681288465038085927-&gt;1755685923405580264</title>\n<path fill=\"none\" stroke=\"black\" d=\"M162.1,-96.21C162.1,-105 162.1,-113.9 162.1,-121.84\"/>\n<polygon fill=\"black\" stroke=\"black\" points=\"158.6,-121.97 162.1,-131.97 165.6,-121.97 158.6,-121.97\"/>\n</g>\n<!-- &#45;3398997024821700366 -->\n<g id=\"node5\" class=\"node\">\n<title>-3398997024821700366</title>\n<ellipse fill=\"none\" stroke=\"black\" cx=\"276.1\" cy=\"-48.1\" rx=\"48.19\" ry=\"48.19\"/>\n<text text-anchor=\"middle\" x=\"276.1\" y=\"-44.4\" font-family=\"Helvetica,sans-Serif\" font-size=\"14.00\">ones_like</text>\n</g>\n<!-- 3864969296523210561 -->\n<g id=\"node6\" class=\"node\">\n<title>3864969296523210561</title>\n<polygon fill=\"none\" stroke=\"black\" points=\"303.1,-168.19 249.1,-168.19 249.1,-132.19 303.1,-132.19 303.1,-168.19\"/>\n<text text-anchor=\"middle\" x=\"276.1\" y=\"-146.49\" font-family=\"Helvetica,sans-Serif\" font-size=\"14.00\">(0, 2)</text>\n</g>\n<!-- &#45;3398997024821700366&#45;&gt;3864969296523210561 -->\n<g id=\"edge3\" class=\"edge\">\n<title>-3398997024821700366-&gt;3864969296523210561</title>\n<path fill=\"none\" stroke=\"black\" d=\"M276.1,-96.21C276.1,-105 276.1,-113.9 276.1,-121.84\"/>\n<polygon fill=\"black\" stroke=\"black\" points=\"272.6,-121.97 276.1,-131.97 279.6,-121.97 272.6,-121.97\"/>\n</g>\n<!-- 3685725185749992209 -->\n<g id=\"node7\" class=\"node\">\n<title>3685725185749992209</title>\n<ellipse fill=\"none\" stroke=\"black\" cx=\"390.1\" cy=\"-48.1\" rx=\"48.19\" ry=\"48.19\"/>\n<text text-anchor=\"middle\" x=\"390.1\" y=\"-44.4\" font-family=\"Helvetica,sans-Serif\" font-size=\"14.00\">ones_like</text>\n</g>\n<!-- &#45;8074134021084342630 -->\n<g id=\"node8\" class=\"node\">\n<title>-8074134021084342630</title>\n<polygon fill=\"none\" stroke=\"black\" points=\"417.1,-168.19 363.1,-168.19 363.1,-132.19 417.1,-132.19 417.1,-168.19\"/>\n<text text-anchor=\"middle\" x=\"390.1\" y=\"-146.49\" font-family=\"Helvetica,sans-Serif\" font-size=\"14.00\">(0, 3)</text>\n</g>\n<!-- 3685725185749992209&#45;&gt;&#45;8074134021084342630 -->\n<g id=\"edge4\" class=\"edge\">\n<title>3685725185749992209-&gt;-8074134021084342630</title>\n<path fill=\"none\" stroke=\"black\" d=\"M390.1,-96.21C390.1,-105 390.1,-113.9 390.1,-121.84\"/>\n<polygon fill=\"black\" stroke=\"black\" points=\"386.6,-121.97 390.1,-131.97 393.6,-121.97 386.6,-121.97\"/>\n</g>\n</g>\n</svg>"
          },
          "metadata": {},
          "execution_count": 21
        }
      ]
    },
    {
      "cell_type": "markdown",
      "metadata": {
        "id": "8p-P_I4MAOYA"
      },
      "source": [
        "Our array has four chunks. To generate it, dask calls np.ones four times and then concatenates this together into one array.\n",
        "\n",
        "Rather than immediately loading a dask array (which puts all the data into RAM), it is more common to reduce the data somehow."
      ],
      "id": "8p-P_I4MAOYA"
    },
    {
      "cell_type": "code",
      "metadata": {
        "id": "7wogfk0WASfV",
        "colab": {
          "base_uri": "https://localhost:8080/",
          "height": 1000
        },
        "outputId": "74356dd9-a4ff-408c-c392-da94b9f12abb"
      },
      "source": [
        "# calculate the sum of elements of dask array\n",
        "sum_of_ones = ones.sum()\n",
        "# visualize the sum operation in dask\n",
        "sum_of_ones.visualize(format='svg')"
      ],
      "id": "7wogfk0WASfV",
      "execution_count": 22,
      "outputs": [
        {
          "output_type": "execute_result",
          "data": {
            "text/plain": [
              "<IPython.core.display.SVG object>"
            ],
            "image/svg+xml": "<svg xmlns=\"http://www.w3.org/2000/svg\" xmlns:xlink=\"http://www.w3.org/1999/xlink\" width=\"449pt\" height=\"806pt\" viewBox=\"0.00 0.00 449.19 805.66\">\n<g id=\"graph0\" class=\"graph\" transform=\"scale(1 1) rotate(0) translate(4 801.66)\">\n<title>%3</title>\n<polygon fill=\"white\" stroke=\"transparent\" points=\"-4,4 -4,-801.66 445.19,-801.66 445.19,4 -4,4\"/>\n<!-- &#45;1558030707400806681 -->\n<g id=\"node1\" class=\"node\">\n<title>-1558030707400806681</title>\n<ellipse fill=\"none\" stroke=\"black\" cx=\"48.1\" cy=\"-48.1\" rx=\"48.19\" ry=\"48.19\"/>\n<text text-anchor=\"middle\" x=\"48.1\" y=\"-44.4\" font-family=\"Helvetica,sans-Serif\" font-size=\"14.00\">ones_like</text>\n</g>\n<!-- 6648759952378276630 -->\n<g id=\"node2\" class=\"node\">\n<title>6648759952378276630</title>\n<polygon fill=\"none\" stroke=\"black\" points=\"92.1,-168.19 38.1,-168.19 38.1,-132.19 92.1,-132.19 92.1,-168.19\"/>\n<text text-anchor=\"middle\" x=\"65.1\" y=\"-146.49\" font-family=\"Helvetica,sans-Serif\" font-size=\"14.00\">(0, 0)</text>\n</g>\n<!-- &#45;1558030707400806681&#45;&gt;6648759952378276630 -->\n<g id=\"edge1\" class=\"edge\">\n<title>-1558030707400806681-&gt;6648759952378276630</title>\n<path fill=\"none\" stroke=\"black\" d=\"M56,-95.63C57.52,-104.57 59.06,-113.67 60.44,-121.76\"/>\n<polygon fill=\"black\" stroke=\"black\" points=\"57.01,-122.46 62.13,-131.73 63.91,-121.29 57.01,-122.46\"/>\n</g>\n<!-- 7896068873004276933 -->\n<g id=\"node9\" class=\"node\">\n<title>7896068873004276933</title>\n<ellipse fill=\"none\" stroke=\"black\" cx=\"74.1\" cy=\"-232.14\" rx=\"27.9\" ry=\"27.9\"/>\n<text text-anchor=\"middle\" x=\"74.1\" y=\"-228.44\" font-family=\"Helvetica,sans-Serif\" font-size=\"14.00\">sum</text>\n</g>\n<!-- 6648759952378276630&#45;&gt;7896068873004276933 -->\n<g id=\"edge6\" class=\"edge\">\n<title>6648759952378276630-&gt;7896068873004276933</title>\n<path fill=\"none\" stroke=\"black\" d=\"M67.05,-168.54C67.89,-176 68.9,-185.03 69.9,-193.88\"/>\n<polygon fill=\"black\" stroke=\"black\" points=\"66.45,-194.53 71.05,-204.08 73.41,-193.75 66.45,-194.53\"/>\n</g>\n<!-- 2681288465038085927 -->\n<g id=\"node3\" class=\"node\">\n<title>2681288465038085927</title>\n<ellipse fill=\"none\" stroke=\"black\" cx=\"162.1\" cy=\"-48.1\" rx=\"48.19\" ry=\"48.19\"/>\n<text text-anchor=\"middle\" x=\"162.1\" y=\"-44.4\" font-family=\"Helvetica,sans-Serif\" font-size=\"14.00\">ones_like</text>\n</g>\n<!-- 1755685923405580264 -->\n<g id=\"node4\" class=\"node\">\n<title>1755685923405580264</title>\n<polygon fill=\"none\" stroke=\"black\" points=\"183.1,-168.19 129.1,-168.19 129.1,-132.19 183.1,-132.19 183.1,-168.19\"/>\n<text text-anchor=\"middle\" x=\"156.1\" y=\"-146.49\" font-family=\"Helvetica,sans-Serif\" font-size=\"14.00\">(0, 1)</text>\n</g>\n<!-- 2681288465038085927&#45;&gt;1755685923405580264 -->\n<g id=\"edge2\" class=\"edge\">\n<title>2681288465038085927-&gt;1755685923405580264</title>\n<path fill=\"none\" stroke=\"black\" d=\"M159.27,-96.21C158.74,-105 158.21,-113.9 157.74,-121.84\"/>\n<polygon fill=\"black\" stroke=\"black\" points=\"154.23,-121.78 157.13,-131.97 161.22,-122.19 154.23,-121.78\"/>\n</g>\n<!-- &#45;5624226908046025023 -->\n<g id=\"node11\" class=\"node\">\n<title>-5624226908046025023</title>\n<ellipse fill=\"none\" stroke=\"black\" cx=\"156.1\" cy=\"-232.14\" rx=\"27.9\" ry=\"27.9\"/>\n<text text-anchor=\"middle\" x=\"156.1\" y=\"-228.44\" font-family=\"Helvetica,sans-Serif\" font-size=\"14.00\">sum</text>\n</g>\n<!-- 1755685923405580264&#45;&gt;&#45;5624226908046025023 -->\n<g id=\"edge8\" class=\"edge\">\n<title>1755685923405580264-&gt;-5624226908046025023</title>\n<path fill=\"none\" stroke=\"black\" d=\"M156.1,-168.54C156.1,-176 156.1,-185.03 156.1,-193.88\"/>\n<polygon fill=\"black\" stroke=\"black\" points=\"152.6,-194.08 156.1,-204.08 159.6,-194.08 152.6,-194.08\"/>\n</g>\n<!-- &#45;3398997024821700366 -->\n<g id=\"node5\" class=\"node\">\n<title>-3398997024821700366</title>\n<ellipse fill=\"none\" stroke=\"black\" cx=\"279.1\" cy=\"-48.1\" rx=\"48.19\" ry=\"48.19\"/>\n<text text-anchor=\"middle\" x=\"279.1\" y=\"-44.4\" font-family=\"Helvetica,sans-Serif\" font-size=\"14.00\">ones_like</text>\n</g>\n<!-- 3864969296523210561 -->\n<g id=\"node6\" class=\"node\">\n<title>3864969296523210561</title>\n<polygon fill=\"none\" stroke=\"black\" points=\"306.1,-168.19 252.1,-168.19 252.1,-132.19 306.1,-132.19 306.1,-168.19\"/>\n<text text-anchor=\"middle\" x=\"279.1\" y=\"-146.49\" font-family=\"Helvetica,sans-Serif\" font-size=\"14.00\">(0, 2)</text>\n</g>\n<!-- &#45;3398997024821700366&#45;&gt;3864969296523210561 -->\n<g id=\"edge3\" class=\"edge\">\n<title>-3398997024821700366-&gt;3864969296523210561</title>\n<path fill=\"none\" stroke=\"black\" d=\"M279.1,-96.21C279.1,-105 279.1,-113.9 279.1,-121.84\"/>\n<polygon fill=\"black\" stroke=\"black\" points=\"275.6,-121.97 279.1,-131.97 282.6,-121.97 275.6,-121.97\"/>\n</g>\n<!-- 6055102555583383248 -->\n<g id=\"node13\" class=\"node\">\n<title>6055102555583383248</title>\n<ellipse fill=\"none\" stroke=\"black\" cx=\"280.1\" cy=\"-232.14\" rx=\"27.9\" ry=\"27.9\"/>\n<text text-anchor=\"middle\" x=\"280.1\" y=\"-228.44\" font-family=\"Helvetica,sans-Serif\" font-size=\"14.00\">sum</text>\n</g>\n<!-- 3864969296523210561&#45;&gt;6055102555583383248 -->\n<g id=\"edge10\" class=\"edge\">\n<title>3864969296523210561-&gt;6055102555583383248</title>\n<path fill=\"none\" stroke=\"black\" d=\"M279.31,-168.54C279.41,-176 279.52,-185.03 279.63,-193.88\"/>\n<polygon fill=\"black\" stroke=\"black\" points=\"276.13,-194.12 279.76,-204.08 283.13,-194.03 276.13,-194.12\"/>\n</g>\n<!-- 3685725185749992209 -->\n<g id=\"node7\" class=\"node\">\n<title>3685725185749992209</title>\n<ellipse fill=\"none\" stroke=\"black\" cx=\"393.1\" cy=\"-48.1\" rx=\"48.19\" ry=\"48.19\"/>\n<text text-anchor=\"middle\" x=\"393.1\" y=\"-44.4\" font-family=\"Helvetica,sans-Serif\" font-size=\"14.00\">ones_like</text>\n</g>\n<!-- &#45;8074134021084342630 -->\n<g id=\"node8\" class=\"node\">\n<title>-8074134021084342630</title>\n<polygon fill=\"none\" stroke=\"black\" points=\"410.1,-168.19 356.1,-168.19 356.1,-132.19 410.1,-132.19 410.1,-168.19\"/>\n<text text-anchor=\"middle\" x=\"383.1\" y=\"-146.49\" font-family=\"Helvetica,sans-Serif\" font-size=\"14.00\">(0, 3)</text>\n</g>\n<!-- 3685725185749992209&#45;&gt;&#45;8074134021084342630 -->\n<g id=\"edge4\" class=\"edge\">\n<title>3685725185749992209-&gt;-8074134021084342630</title>\n<path fill=\"none\" stroke=\"black\" d=\"M388.39,-96.21C387.51,-105 386.62,-113.9 385.83,-121.84\"/>\n<polygon fill=\"black\" stroke=\"black\" points=\"382.33,-121.67 384.82,-131.97 389.29,-122.36 382.33,-121.67\"/>\n</g>\n<!-- &#45;6622373398381509916 -->\n<g id=\"node15\" class=\"node\">\n<title>-6622373398381509916</title>\n<ellipse fill=\"none\" stroke=\"black\" cx=\"373.1\" cy=\"-232.14\" rx=\"27.9\" ry=\"27.9\"/>\n<text text-anchor=\"middle\" x=\"373.1\" y=\"-228.44\" font-family=\"Helvetica,sans-Serif\" font-size=\"14.00\">sum</text>\n</g>\n<!-- &#45;8074134021084342630&#45;&gt;&#45;6622373398381509916 -->\n<g id=\"edge12\" class=\"edge\">\n<title>-8074134021084342630-&gt;-6622373398381509916</title>\n<path fill=\"none\" stroke=\"black\" d=\"M380.93,-168.54C379.97,-176.15 378.82,-185.38 377.69,-194.4\"/>\n<polygon fill=\"black\" stroke=\"black\" points=\"374.21,-194.03 376.44,-204.39 381.16,-194.9 374.21,-194.03\"/>\n</g>\n<!-- 3375629464065718402 -->\n<g id=\"node10\" class=\"node\">\n<title>3375629464065718402</title>\n<polygon fill=\"none\" stroke=\"black\" points=\"106.1,-332.09 52.1,-332.09 52.1,-296.09 106.1,-296.09 106.1,-332.09\"/>\n<text text-anchor=\"middle\" x=\"79.1\" y=\"-310.39\" font-family=\"Helvetica,sans-Serif\" font-size=\"14.00\">(0, 0)</text>\n</g>\n<!-- 7896068873004276933&#45;&gt;3375629464065718402 -->\n<g id=\"edge5\" class=\"edge\">\n<title>7896068873004276933-&gt;3375629464065718402</title>\n<path fill=\"none\" stroke=\"black\" d=\"M75.79,-260.21C76.3,-268.39 76.86,-277.39 77.38,-285.61\"/>\n<polygon fill=\"black\" stroke=\"black\" points=\"73.9,-286.06 78.02,-295.83 80.89,-285.63 73.9,-286.06\"/>\n</g>\n<!-- &#45;3622579701741864987 -->\n<g id=\"node17\" class=\"node\">\n<title>-3622579701741864987</title>\n<ellipse fill=\"none\" stroke=\"black\" cx=\"154.1\" cy=\"-422.68\" rx=\"54.69\" ry=\"54.69\"/>\n<text text-anchor=\"middle\" x=\"154.1\" y=\"-418.98\" font-family=\"Helvetica,sans-Serif\" font-size=\"14.00\">sum-partial</text>\n</g>\n<!-- 3375629464065718402&#45;&gt;&#45;3622579701741864987 -->\n<g id=\"edge14\" class=\"edge\">\n<title>3375629464065718402-&gt;-3622579701741864987</title>\n<path fill=\"none\" stroke=\"black\" d=\"M91.15,-332.21C98.28,-342.35 107.74,-355.79 117.15,-369.17\"/>\n<polygon fill=\"black\" stroke=\"black\" points=\"114.36,-371.3 122.98,-377.46 120.09,-367.27 114.36,-371.3\"/>\n</g>\n<!-- &#45;8563473853541834789 -->\n<g id=\"node12\" class=\"node\">\n<title>-8563473853541834789</title>\n<polygon fill=\"none\" stroke=\"black\" points=\"182.1,-332.09 128.1,-332.09 128.1,-296.09 182.1,-296.09 182.1,-332.09\"/>\n<text text-anchor=\"middle\" x=\"155.1\" y=\"-310.39\" font-family=\"Helvetica,sans-Serif\" font-size=\"14.00\">(0, 1)</text>\n</g>\n<!-- &#45;5624226908046025023&#45;&gt;&#45;8563473853541834789 -->\n<g id=\"edge7\" class=\"edge\">\n<title>-5624226908046025023-&gt;-8563473853541834789</title>\n<path fill=\"none\" stroke=\"black\" d=\"M155.76,-260.21C155.65,-268.39 155.54,-277.39 155.44,-285.61\"/>\n<polygon fill=\"black\" stroke=\"black\" points=\"151.94,-285.78 155.31,-295.83 158.94,-285.87 151.94,-285.78\"/>\n</g>\n<!-- &#45;8563473853541834789&#45;&gt;&#45;3622579701741864987 -->\n<g id=\"edge15\" class=\"edge\">\n<title>-8563473853541834789-&gt;-3622579701741864987</title>\n<path fill=\"none\" stroke=\"black\" d=\"M154.94,-332.21C154.87,-339.39 154.78,-348.22 154.7,-357.51\"/>\n<polygon fill=\"black\" stroke=\"black\" points=\"151.2,-357.68 154.6,-367.71 158.2,-357.75 151.2,-357.68\"/>\n</g>\n<!-- 591838808210652333 -->\n<g id=\"node14\" class=\"node\">\n<title>591838808210652333</title>\n<polygon fill=\"none\" stroke=\"black\" points=\"307.1,-332.09 253.1,-332.09 253.1,-296.09 307.1,-296.09 307.1,-332.09\"/>\n<text text-anchor=\"middle\" x=\"280.1\" y=\"-310.39\" font-family=\"Helvetica,sans-Serif\" font-size=\"14.00\">(0, 2)</text>\n</g>\n<!-- 6055102555583383248&#45;&gt;591838808210652333 -->\n<g id=\"edge9\" class=\"edge\">\n<title>6055102555583383248-&gt;591838808210652333</title>\n<path fill=\"none\" stroke=\"black\" d=\"M280.1,-260.21C280.1,-268.39 280.1,-277.39 280.1,-285.61\"/>\n<polygon fill=\"black\" stroke=\"black\" points=\"276.6,-285.83 280.1,-295.83 283.6,-285.83 276.6,-285.83\"/>\n</g>\n<!-- 9192717706637650290 -->\n<g id=\"node19\" class=\"node\">\n<title>9192717706637650290</title>\n<ellipse fill=\"none\" stroke=\"black\" cx=\"281.1\" cy=\"-422.68\" rx=\"54.69\" ry=\"54.69\"/>\n<text text-anchor=\"middle\" x=\"281.1\" y=\"-418.98\" font-family=\"Helvetica,sans-Serif\" font-size=\"14.00\">sum-partial</text>\n</g>\n<!-- 591838808210652333&#45;&gt;9192717706637650290 -->\n<g id=\"edge17\" class=\"edge\">\n<title>591838808210652333-&gt;9192717706637650290</title>\n<path fill=\"none\" stroke=\"black\" d=\"M280.26,-332.21C280.32,-339.39 280.41,-348.22 280.49,-357.51\"/>\n<polygon fill=\"black\" stroke=\"black\" points=\"277,-357.75 280.59,-367.71 284,-357.68 277,-357.75\"/>\n</g>\n<!-- 7099479564312650758 -->\n<g id=\"node16\" class=\"node\">\n<title>7099479564312650758</title>\n<polygon fill=\"none\" stroke=\"black\" points=\"389.1,-332.09 335.1,-332.09 335.1,-296.09 389.1,-296.09 389.1,-332.09\"/>\n<text text-anchor=\"middle\" x=\"362.1\" y=\"-310.39\" font-family=\"Helvetica,sans-Serif\" font-size=\"14.00\">(0, 3)</text>\n</g>\n<!-- &#45;6622373398381509916&#45;&gt;7099479564312650758 -->\n<g id=\"edge11\" class=\"edge\">\n<title>-6622373398381509916-&gt;7099479564312650758</title>\n<path fill=\"none\" stroke=\"black\" d=\"M369.37,-260.21C368.23,-268.49 366.98,-277.6 365.84,-285.89\"/>\n<polygon fill=\"black\" stroke=\"black\" points=\"362.37,-285.44 364.47,-295.83 369.3,-286.4 362.37,-285.44\"/>\n</g>\n<!-- 7099479564312650758&#45;&gt;9192717706637650290 -->\n<g id=\"edge18\" class=\"edge\">\n<title>7099479564312650758-&gt;9192717706637650290</title>\n<path fill=\"none\" stroke=\"black\" d=\"M349.08,-332.21C341.08,-342.74 330.37,-356.83 319.82,-370.72\"/>\n<polygon fill=\"black\" stroke=\"black\" points=\"316.92,-368.76 313.65,-378.84 322.49,-372.99 316.92,-368.76\"/>\n</g>\n<!-- 2317951264983974702 -->\n<g id=\"node18\" class=\"node\">\n<title>2317951264983974702</title>\n<polygon fill=\"none\" stroke=\"black\" points=\"208.1,-549.28 154.1,-549.28 154.1,-513.28 208.1,-513.28 208.1,-549.28\"/>\n<text text-anchor=\"middle\" x=\"181.1\" y=\"-527.58\" font-family=\"Helvetica,sans-Serif\" font-size=\"14.00\">(0, 0)</text>\n</g>\n<!-- &#45;3622579701741864987&#45;&gt;2317951264983974702 -->\n<g id=\"edge13\" class=\"edge\">\n<title>-3622579701741864987-&gt;2317951264983974702</title>\n<path fill=\"none\" stroke=\"black\" d=\"M167.28,-475.73C169.69,-485.24 172.11,-494.81 174.24,-503.21\"/>\n<polygon fill=\"black\" stroke=\"black\" points=\"170.91,-504.32 176.76,-513.15 177.7,-502.6 170.91,-504.32\"/>\n</g>\n<!-- &#45;5280178981971888174 -->\n<g id=\"node21\" class=\"node\">\n<title>-5280178981971888174</title>\n<ellipse fill=\"none\" stroke=\"black\" cx=\"217.1\" cy=\"-655.47\" rx=\"70.39\" ry=\"70.39\"/>\n<text text-anchor=\"middle\" x=\"217.1\" y=\"-651.77\" font-family=\"Helvetica,sans-Serif\" font-size=\"14.00\">sum-aggregate</text>\n</g>\n<!-- 2317951264983974702&#45;&gt;&#45;5280178981971888174 -->\n<g id=\"edge20\" class=\"edge\">\n<title>2317951264983974702-&gt;-5280178981971888174</title>\n<path fill=\"none\" stroke=\"black\" d=\"M186.18,-549.53C188.53,-557.51 191.51,-567.62 194.68,-578.38\"/>\n<polygon fill=\"black\" stroke=\"black\" points=\"191.32,-579.37 197.5,-587.97 198.04,-577.39 191.32,-579.37\"/>\n</g>\n<!-- 8825592021085973127 -->\n<g id=\"node20\" class=\"node\">\n<title>8825592021085973127</title>\n<polygon fill=\"none\" stroke=\"black\" points=\"294.1,-549.28 240.1,-549.28 240.1,-513.28 294.1,-513.28 294.1,-549.28\"/>\n<text text-anchor=\"middle\" x=\"267.1\" y=\"-527.58\" font-family=\"Helvetica,sans-Serif\" font-size=\"14.00\">(0, 1)</text>\n</g>\n<!-- 9192717706637650290&#45;&gt;8825592021085973127 -->\n<g id=\"edge16\" class=\"edge\">\n<title>9192717706637650290-&gt;8825592021085973127</title>\n<path fill=\"none\" stroke=\"black\" d=\"M274.1,-476.98C272.91,-486 271.73,-495.01 270.68,-503\"/>\n<polygon fill=\"black\" stroke=\"black\" points=\"267.18,-502.78 269.35,-513.15 274.12,-503.69 267.18,-502.78\"/>\n</g>\n<!-- 8825592021085973127&#45;&gt;&#45;5280178981971888174 -->\n<g id=\"edge21\" class=\"edge\">\n<title>8825592021085973127-&gt;-5280178981971888174</title>\n<path fill=\"none\" stroke=\"black\" d=\"M260.04,-549.53C256.53,-558.09 252.03,-569.09 247.27,-580.72\"/>\n<polygon fill=\"black\" stroke=\"black\" points=\"243.96,-579.57 243.41,-590.16 250.44,-582.23 243.96,-579.57\"/>\n</g>\n<!-- 2036431084709849501 -->\n<g id=\"node22\" class=\"node\">\n<title>2036431084709849501</title>\n<polygon fill=\"none\" stroke=\"black\" points=\"244.1,-797.66 190.1,-797.66 190.1,-761.66 244.1,-761.66 244.1,-797.66\"/>\n<text text-anchor=\"middle\" x=\"217.1\" y=\"-775.96\" font-family=\"Helvetica,sans-Serif\" font-size=\"14.00\">()</text>\n</g>\n<!-- &#45;5280178981971888174&#45;&gt;2036431084709849501 -->\n<g id=\"edge19\" class=\"edge\">\n<title>-5280178981971888174-&gt;2036431084709849501</title>\n<path fill=\"none\" stroke=\"black\" d=\"M217.1,-725.78C217.1,-734.86 217.1,-743.69 217.1,-751.46\"/>\n<polygon fill=\"black\" stroke=\"black\" points=\"213.6,-751.64 217.1,-761.64 220.6,-751.64 213.6,-751.64\"/>\n</g>\n</g>\n</svg>"
          },
          "metadata": {},
          "execution_count": 22
        }
      ]
    },
    {
      "cell_type": "markdown",
      "metadata": {
        "id": "urIQVP-xQ9XO"
      },
      "source": [
        "### **DataFrame**\n",
        "\n",
        "A Dask DataFrame is a large parallel DataFrame composed of many smaller Pandas DataFrames, split along **with** the index. One Dask DataFrame operation triggers many operations on the constituent Pandas DataFrames.\n",
        "\n",
        "Dask DataFrames coordinate many Pandas DataFrames/Series arranged along the index. A Dask DataFrame is partitioned row-wise, grouping rows by index value for efficiency.\n",
        "\n",
        "![Dask_DF](https://cdn.iisc.talentsprint.com/CDS/Images/Dask_Dataframe.JPG)\n",
        "\n",
        "To study more about Dask dataframe, refer to the link [here](https://docs.dask.org/en/latest/dataframe.html)."
      ],
      "id": "urIQVP-xQ9XO"
    },
    {
      "cell_type": "markdown",
      "metadata": {
        "id": "Zyw-S0i7QQ_U"
      },
      "source": [
        "Create a dataframe with random values"
      ],
      "id": "Zyw-S0i7QQ_U"
    },
    {
      "cell_type": "code",
      "metadata": {
        "id": "H4xmg4gHQdTo"
      },
      "source": [
        "# pandas and numpy is used to create dataframe of random values\n",
        "data = pd.DataFrame()"
      ],
      "id": "H4xmg4gHQdTo",
      "execution_count": 23,
      "outputs": []
    },
    {
      "cell_type": "markdown",
      "metadata": {
        "id": "81SudTyQSD8a"
      },
      "source": [
        "Dataframe is created with two columns, each having 1500 random values."
      ],
      "id": "81SudTyQSD8a"
    },
    {
      "cell_type": "code",
      "metadata": {
        "id": "4iu2Pps_Erfi",
        "colab": {
          "base_uri": "https://localhost:8080/"
        },
        "outputId": "2f21b880-89a1-4fe8-c636-4a0c2d7d409e"
      },
      "source": [
        "# create two columns\n",
        "data['col1'] = np.random.normal(size=1500)\n",
        "data['col2'] = np.random.normal(size=1500)\n",
        "print(data)"
      ],
      "id": "4iu2Pps_Erfi",
      "execution_count": 24,
      "outputs": [
        {
          "output_type": "stream",
          "name": "stdout",
          "text": [
            "          col1      col2\n",
            "0     0.260209  0.912223\n",
            "1     1.391540 -0.874004\n",
            "2     0.892639  0.257042\n",
            "3    -1.114019 -0.174868\n",
            "4     1.688868  0.983311\n",
            "...        ...       ...\n",
            "1495 -0.173250  0.662616\n",
            "1496 -0.152273 -0.829531\n",
            "1497  0.823368  0.429105\n",
            "1498 -0.312075  0.581012\n",
            "1499 -0.791627 -0.384398\n",
            "\n",
            "[1500 rows x 2 columns]\n"
          ]
        }
      ]
    },
    {
      "cell_type": "markdown",
      "metadata": {
        "id": "8zEcwuXZSM9A"
      },
      "source": [
        "Read the dataframe using dask dataframe"
      ],
      "id": "8zEcwuXZSM9A"
    },
    {
      "cell_type": "code",
      "metadata": {
        "id": "f2LFQep8Q1ga",
        "colab": {
          "base_uri": "https://localhost:8080/"
        },
        "outputId": "029f945a-06df-4924-f8ae-45aaadf6ea56"
      },
      "source": [
        "# convert pandas dataframe to dask dataframe\n",
        "ddf = dd.from_pandas(data, npartitions=2)\n",
        "print(ddf.compute())"
      ],
      "id": "f2LFQep8Q1ga",
      "execution_count": 25,
      "outputs": [
        {
          "output_type": "stream",
          "name": "stdout",
          "text": [
            "          col1      col2\n",
            "0     0.260209  0.912223\n",
            "1     1.391540 -0.874004\n",
            "2     0.892639  0.257042\n",
            "3    -1.114019 -0.174868\n",
            "4     1.688868  0.983311\n",
            "...        ...       ...\n",
            "1495 -0.173250  0.662616\n",
            "1496 -0.152273 -0.829531\n",
            "1497  0.823368  0.429105\n",
            "1498 -0.312075  0.581012\n",
            "1499 -0.791627 -0.384398\n",
            "\n",
            "[1500 rows x 2 columns]\n"
          ]
        }
      ]
    },
    {
      "cell_type": "code",
      "metadata": {
        "id": "eqtBj6xsRBla",
        "colab": {
          "base_uri": "https://localhost:8080/"
        },
        "outputId": "749f6cdb-4a03-4f61-dfbd-e5e90278e323"
      },
      "source": [
        "# Get a dask DataFrame/Series representing the nth partition\n",
        "part_1= ddf.get_partition(1)\n",
        "print(part_1.head())"
      ],
      "id": "eqtBj6xsRBla",
      "execution_count": 26,
      "outputs": [
        {
          "output_type": "stream",
          "name": "stdout",
          "text": [
            "         col1      col2\n",
            "750 -0.348297  1.554536\n",
            "751  0.246623  0.814000\n",
            "752  1.099591  2.072016\n",
            "753 -0.870548 -0.750729\n",
            "754  1.422184  0.523290\n"
          ]
        }
      ]
    },
    {
      "cell_type": "code",
      "metadata": {
        "id": "5QyY3Hu1RlWR",
        "colab": {
          "base_uri": "https://localhost:8080/",
          "height": 524
        },
        "outputId": "a5d08d9b-f54a-4eff-f6fc-f1e25f589b15"
      },
      "source": [
        "%time ddf['col1'].value_counts().compute()                 # compute the value counts in column 1 and time of execution of code"
      ],
      "id": "5QyY3Hu1RlWR",
      "execution_count": 27,
      "outputs": [
        {
          "output_type": "stream",
          "name": "stdout",
          "text": [
            "CPU times: user 45.2 ms, sys: 2.1 ms, total: 47.3 ms\n",
            "Wall time: 46.3 ms\n"
          ]
        },
        {
          "output_type": "execute_result",
          "data": {
            "text/plain": [
              "col1\n",
              "-3.512215    1\n",
              "-2.846801    1\n",
              "-2.710131    1\n",
              "-2.491216    1\n",
              "-2.315952    1\n",
              "            ..\n",
              " 2.548170    1\n",
              " 2.611791    1\n",
              " 2.802851    1\n",
              " 2.891054    1\n",
              " 3.130875    1\n",
              "Name: count, Length: 1500, dtype: int64"
            ],
            "text/html": [
              "<div>\n",
              "<style scoped>\n",
              "    .dataframe tbody tr th:only-of-type {\n",
              "        vertical-align: middle;\n",
              "    }\n",
              "\n",
              "    .dataframe tbody tr th {\n",
              "        vertical-align: top;\n",
              "    }\n",
              "\n",
              "    .dataframe thead th {\n",
              "        text-align: right;\n",
              "    }\n",
              "</style>\n",
              "<table border=\"1\" class=\"dataframe\">\n",
              "  <thead>\n",
              "    <tr style=\"text-align: right;\">\n",
              "      <th></th>\n",
              "      <th>count</th>\n",
              "    </tr>\n",
              "    <tr>\n",
              "      <th>col1</th>\n",
              "      <th></th>\n",
              "    </tr>\n",
              "  </thead>\n",
              "  <tbody>\n",
              "    <tr>\n",
              "      <th>-3.512215</th>\n",
              "      <td>1</td>\n",
              "    </tr>\n",
              "    <tr>\n",
              "      <th>-2.846801</th>\n",
              "      <td>1</td>\n",
              "    </tr>\n",
              "    <tr>\n",
              "      <th>-2.710131</th>\n",
              "      <td>1</td>\n",
              "    </tr>\n",
              "    <tr>\n",
              "      <th>-2.491216</th>\n",
              "      <td>1</td>\n",
              "    </tr>\n",
              "    <tr>\n",
              "      <th>-2.315952</th>\n",
              "      <td>1</td>\n",
              "    </tr>\n",
              "    <tr>\n",
              "      <th>...</th>\n",
              "      <td>...</td>\n",
              "    </tr>\n",
              "    <tr>\n",
              "      <th>2.548170</th>\n",
              "      <td>1</td>\n",
              "    </tr>\n",
              "    <tr>\n",
              "      <th>2.611791</th>\n",
              "      <td>1</td>\n",
              "    </tr>\n",
              "    <tr>\n",
              "      <th>2.802851</th>\n",
              "      <td>1</td>\n",
              "    </tr>\n",
              "    <tr>\n",
              "      <th>2.891054</th>\n",
              "      <td>1</td>\n",
              "    </tr>\n",
              "    <tr>\n",
              "      <th>3.130875</th>\n",
              "      <td>1</td>\n",
              "    </tr>\n",
              "  </tbody>\n",
              "</table>\n",
              "<p>1500 rows × 1 columns</p>\n",
              "</div><br><label><b>dtype:</b> int64</label>"
            ]
          },
          "metadata": {},
          "execution_count": 27
        }
      ]
    },
    {
      "cell_type": "markdown",
      "metadata": {
        "id": "PwfxN8zIyZ1V"
      },
      "source": [
        "So, using dask dataframe it is much more time efficient to execute"
      ],
      "id": "PwfxN8zIyZ1V"
    },
    {
      "cell_type": "markdown",
      "metadata": {
        "id": "another-warren"
      },
      "source": [
        "#### Performance of Dask Dataframe and Pandas Dataframe\n",
        "\n",
        "\n",
        "\n",
        "In the below example, we can understand how dask dataframes handle complex and large datasets along with pandas dataframe.\n",
        "\n",
        "We are using 'nycflights' dataset to show how dask differs from pandas.\n",
        "\n",
        "'nycflights' dataset contains 10 separate csv flights for the year 1990 to 1999."
      ],
      "id": "another-warren"
    },
    {
      "cell_type": "code",
      "metadata": {
        "id": "vkIiWr265y1k"
      },
      "source": [
        "nycflightsPath = os.path.join('nycflights', 'nycflights', '*.csv')"
      ],
      "id": "vkIiWr265y1k",
      "execution_count": 28,
      "outputs": []
    },
    {
      "cell_type": "code",
      "metadata": {
        "id": "TtpYoVlZbaUE",
        "colab": {
          "base_uri": "https://localhost:8080/",
          "height": 35
        },
        "outputId": "38af5fc3-a32f-4ccb-ad04-a960a7ae45c2"
      },
      "source": [
        "nycflightsPath"
      ],
      "id": "TtpYoVlZbaUE",
      "execution_count": 29,
      "outputs": [
        {
          "output_type": "execute_result",
          "data": {
            "text/plain": [
              "'nycflights/nycflights/*.csv'"
            ],
            "application/vnd.google.colaboratory.intrinsic+json": {
              "type": "string"
            }
          },
          "metadata": {},
          "execution_count": 29
        }
      ]
    },
    {
      "cell_type": "code",
      "metadata": {
        "id": "finished-mouse",
        "colab": {
          "base_uri": "https://localhost:8080/"
        },
        "outputId": "942661ee-ecd4-4e9e-acdc-5c700d6c1f90"
      },
      "source": [
        "# reading all the csv file using dask\n",
        "df = dd.read_csv(nycflightsPath,\n",
        "                 parse_dates={'Date':[0,1,2]},\n",
        "                 dtype={'CRSElapsedTime': 'float64',\n",
        "                        'TailNum': 'object',\n",
        "                        'Cancelled': 'bool'})"
      ],
      "id": "finished-mouse",
      "execution_count": 30,
      "outputs": [
        {
          "output_type": "stream",
          "name": "stderr",
          "text": [
            "/usr/local/lib/python3.10/dist-packages/dask/dataframe/io/csv.py:640: FutureWarning: Support for nested sequences for 'parse_dates' in pd.read_csv is deprecated. Combine the desired columns with pd.to_datetime after parsing instead.\n",
            "  head = reader(BytesIO(b_sample), nrows=sample_rows, **head_kwargs)\n"
          ]
        }
      ]
    },
    {
      "cell_type": "markdown",
      "metadata": {
        "id": "weighted-panic"
      },
      "source": [
        "Here, we can see that dask dataframe stores all the csv files simultaneously using *.csv (this code reads all the files inside nycflights dataset)"
      ],
      "id": "weighted-panic"
    },
    {
      "cell_type": "markdown",
      "metadata": {
        "id": "fantastic-orientation"
      },
      "source": [
        "Whereas, when we want to store the files using pandas, it leads to errors. This means pandas is not able to handle and store more than one file simultaneously.\n",
        "\n",
        "Here, in pandas, we need to store different csv files using separate commands."
      ],
      "id": "fantastic-orientation"
    },
    {
      "cell_type": "code",
      "metadata": {
        "id": "collectible-swing",
        "colab": {
          "base_uri": "https://localhost:8080/"
        },
        "outputId": "57bb2b90-7340-409b-9e81-c4e551ec7de7"
      },
      "source": [
        "# this gives an error\n",
        "try:\n",
        "  # using pandas trying to read all csv files\n",
        "  df_pd = pd.read_csv(nycflightsPath, parse_dates={'Date':[0,1,2]})\n",
        "except:\n",
        "  print(\"Error Occured!\")"
      ],
      "id": "collectible-swing",
      "execution_count": 31,
      "outputs": [
        {
          "output_type": "stream",
          "name": "stdout",
          "text": [
            "Error Occured!\n"
          ]
        },
        {
          "output_type": "stream",
          "name": "stderr",
          "text": [
            "<ipython-input-31-985926bd3ac3>:4: FutureWarning: Support for nested sequences for 'parse_dates' in pd.read_csv is deprecated. Combine the desired columns with pd.to_datetime after parsing instead.\n",
            "  df_pd = pd.read_csv(nycflightsPath, parse_dates={'Date':[0,1,2]})\n"
          ]
        }
      ]
    },
    {
      "cell_type": "markdown",
      "metadata": {
        "id": "5msBx5FO680B"
      },
      "source": [
        "Using pandas we can read one single dataset at a time."
      ],
      "id": "5msBx5FO680B"
    },
    {
      "cell_type": "code",
      "metadata": {
        "id": "Zd9OneVOb3z-",
        "colab": {
          "base_uri": "https://localhost:8080/"
        },
        "outputId": "0d7d0e07-7142-453a-934a-590db8b8d829"
      },
      "source": [
        "!head /content/nycflights/nycflights/1990.csv"
      ],
      "id": "Zd9OneVOb3z-",
      "execution_count": 32,
      "outputs": [
        {
          "output_type": "stream",
          "name": "stdout",
          "text": [
            "Year,Month,DayofMonth,DayOfWeek,DepTime,CRSDepTime,ArrTime,CRSArrTime,UniqueCarrier,FlightNum,TailNum,ActualElapsedTime,CRSElapsedTime,AirTime,ArrDelay,DepDelay,Origin,Dest,Distance,TaxiIn,TaxiOut,Cancelled,Diverted\n",
            "1990,1,1,1,1621.0,1540,1747.0,1701,US,33,,86.0,81,,46.0,41.0,EWR,PIT,319.0,,,0,0\n",
            "1990,1,2,2,1547.0,1540,1700.0,1701,US,33,,73.0,81,,-1.0,7.0,EWR,PIT,319.0,,,0,0\n",
            "1990,1,3,3,1546.0,1540,1710.0,1701,US,33,,84.0,81,,9.0,6.0,EWR,PIT,319.0,,,0,0\n",
            "1990,1,4,4,1542.0,1540,1710.0,1701,US,33,,88.0,81,,9.0,2.0,EWR,PIT,319.0,,,0,0\n",
            "1990,1,5,5,1549.0,1540,1706.0,1701,US,33,,77.0,81,,5.0,9.0,EWR,PIT,319.0,,,0,0\n",
            "1990,1,6,6,1539.0,1540,1653.0,1701,US,33,,74.0,81,,-8.0,-1.0,EWR,PIT,319.0,,,0,0\n",
            "1990,1,7,7,1553.0,1540,1713.0,1701,US,33,,80.0,81,,12.0,13.0,EWR,PIT,319.0,,,0,0\n",
            "1990,1,8,1,1543.0,1540,1656.0,1701,US,33,,73.0,81,,-5.0,3.0,EWR,PIT,319.0,,,0,0\n",
            "1990,1,9,2,1540.0,1540,1704.0,1701,US,33,,84.0,81,,3.0,0.0,EWR,PIT,319.0,,,0,0\n"
          ]
        }
      ]
    },
    {
      "cell_type": "code",
      "metadata": {
        "id": "social-harbor",
        "colab": {
          "base_uri": "https://localhost:8080/"
        },
        "outputId": "8602e5f5-37e9-46c1-fe42-3b3875deb4bd"
      },
      "source": [
        "# reading only single csv file\n",
        "nycf_1990 = pd.read_csv('/content/nycflights/nycflights/1990.csv', parse_dates={'Date':[0,1,2]})"
      ],
      "id": "social-harbor",
      "execution_count": 33,
      "outputs": [
        {
          "output_type": "stream",
          "name": "stderr",
          "text": [
            "<ipython-input-33-e4248f7bc4e7>:2: FutureWarning: Support for nested sequences for 'parse_dates' in pd.read_csv is deprecated. Combine the desired columns with pd.to_datetime after parsing instead.\n",
            "  nycf_1990 = pd.read_csv('/content/nycflights/nycflights/1990.csv', parse_dates={'Date':[0,1,2]})\n"
          ]
        }
      ]
    },
    {
      "cell_type": "markdown",
      "metadata": {
        "id": "conventional-supplement"
      },
      "source": [
        "Dask dataframes object has no data, unlike the pandas data frame. Dask has just read the start of the first file and the column names and dtypes. That's why dask is considered to be lazy in operation.\n",
        "\n",
        "For seeing the data in the dask dataframe we need to execute .head() function."
      ],
      "id": "conventional-supplement"
    },
    {
      "cell_type": "code",
      "metadata": {
        "id": "realistic-palestine",
        "colab": {
          "base_uri": "https://localhost:8080/",
          "height": 411
        },
        "outputId": "a51e0a9b-620e-4582-9113-d8cb506b03c5"
      },
      "source": [
        "# first five rows of the dataset\n",
        "df.head()"
      ],
      "id": "realistic-palestine",
      "execution_count": 34,
      "outputs": [
        {
          "output_type": "stream",
          "name": "stderr",
          "text": [
            "/usr/local/lib/python3.10/dist-packages/dask/dataframe/io/csv.py:640: FutureWarning: Support for nested sequences for 'parse_dates' in pd.read_csv is deprecated. Combine the desired columns with pd.to_datetime after parsing instead.\n",
            "  head = reader(BytesIO(b_sample), nrows=sample_rows, **head_kwargs)\n",
            "/usr/local/lib/python3.10/dist-packages/dask/dataframe/io/csv.py:195: FutureWarning: Support for nested sequences for 'parse_dates' in pd.read_csv is deprecated. Combine the desired columns with pd.to_datetime after parsing instead.\n",
            "  df = reader(bio, **kwargs)\n"
          ]
        },
        {
          "output_type": "execute_result",
          "data": {
            "text/plain": [
              "        Date  DayOfWeek  DepTime  CRSDepTime  ArrTime  CRSArrTime  \\\n",
              "0 1990-01-01          1   1621.0        1540   1747.0        1701   \n",
              "1 1990-01-02          2   1547.0        1540   1700.0        1701   \n",
              "2 1990-01-03          3   1546.0        1540   1710.0        1701   \n",
              "3 1990-01-04          4   1542.0        1540   1710.0        1701   \n",
              "4 1990-01-05          5   1549.0        1540   1706.0        1701   \n",
              "\n",
              "  UniqueCarrier  FlightNum TailNum  ActualElapsedTime  ...  AirTime  ArrDelay  \\\n",
              "0            US         33     NaN               86.0  ...      NaN      46.0   \n",
              "1            US         33     NaN               73.0  ...      NaN      -1.0   \n",
              "2            US         33     NaN               84.0  ...      NaN       9.0   \n",
              "3            US         33     NaN               88.0  ...      NaN       9.0   \n",
              "4            US         33     NaN               77.0  ...      NaN       5.0   \n",
              "\n",
              "   DepDelay  Origin Dest Distance  TaxiIn  TaxiOut  Cancelled  Diverted  \n",
              "0      41.0     EWR  PIT    319.0     NaN      NaN      False         0  \n",
              "1       7.0     EWR  PIT    319.0     NaN      NaN      False         0  \n",
              "2       6.0     EWR  PIT    319.0     NaN      NaN      False         0  \n",
              "3       2.0     EWR  PIT    319.0     NaN      NaN      False         0  \n",
              "4       9.0     EWR  PIT    319.0     NaN      NaN      False         0  \n",
              "\n",
              "[5 rows x 21 columns]"
            ],
            "text/html": [
              "\n",
              "  <div id=\"df-8bf46436-cf72-476e-9c4d-37ef72cf62bd\" class=\"colab-df-container\">\n",
              "    <div>\n",
              "<style scoped>\n",
              "    .dataframe tbody tr th:only-of-type {\n",
              "        vertical-align: middle;\n",
              "    }\n",
              "\n",
              "    .dataframe tbody tr th {\n",
              "        vertical-align: top;\n",
              "    }\n",
              "\n",
              "    .dataframe thead th {\n",
              "        text-align: right;\n",
              "    }\n",
              "</style>\n",
              "<table border=\"1\" class=\"dataframe\">\n",
              "  <thead>\n",
              "    <tr style=\"text-align: right;\">\n",
              "      <th></th>\n",
              "      <th>Date</th>\n",
              "      <th>DayOfWeek</th>\n",
              "      <th>DepTime</th>\n",
              "      <th>CRSDepTime</th>\n",
              "      <th>ArrTime</th>\n",
              "      <th>CRSArrTime</th>\n",
              "      <th>UniqueCarrier</th>\n",
              "      <th>FlightNum</th>\n",
              "      <th>TailNum</th>\n",
              "      <th>ActualElapsedTime</th>\n",
              "      <th>...</th>\n",
              "      <th>AirTime</th>\n",
              "      <th>ArrDelay</th>\n",
              "      <th>DepDelay</th>\n",
              "      <th>Origin</th>\n",
              "      <th>Dest</th>\n",
              "      <th>Distance</th>\n",
              "      <th>TaxiIn</th>\n",
              "      <th>TaxiOut</th>\n",
              "      <th>Cancelled</th>\n",
              "      <th>Diverted</th>\n",
              "    </tr>\n",
              "  </thead>\n",
              "  <tbody>\n",
              "    <tr>\n",
              "      <th>0</th>\n",
              "      <td>1990-01-01</td>\n",
              "      <td>1</td>\n",
              "      <td>1621.0</td>\n",
              "      <td>1540</td>\n",
              "      <td>1747.0</td>\n",
              "      <td>1701</td>\n",
              "      <td>US</td>\n",
              "      <td>33</td>\n",
              "      <td>NaN</td>\n",
              "      <td>86.0</td>\n",
              "      <td>...</td>\n",
              "      <td>NaN</td>\n",
              "      <td>46.0</td>\n",
              "      <td>41.0</td>\n",
              "      <td>EWR</td>\n",
              "      <td>PIT</td>\n",
              "      <td>319.0</td>\n",
              "      <td>NaN</td>\n",
              "      <td>NaN</td>\n",
              "      <td>False</td>\n",
              "      <td>0</td>\n",
              "    </tr>\n",
              "    <tr>\n",
              "      <th>1</th>\n",
              "      <td>1990-01-02</td>\n",
              "      <td>2</td>\n",
              "      <td>1547.0</td>\n",
              "      <td>1540</td>\n",
              "      <td>1700.0</td>\n",
              "      <td>1701</td>\n",
              "      <td>US</td>\n",
              "      <td>33</td>\n",
              "      <td>NaN</td>\n",
              "      <td>73.0</td>\n",
              "      <td>...</td>\n",
              "      <td>NaN</td>\n",
              "      <td>-1.0</td>\n",
              "      <td>7.0</td>\n",
              "      <td>EWR</td>\n",
              "      <td>PIT</td>\n",
              "      <td>319.0</td>\n",
              "      <td>NaN</td>\n",
              "      <td>NaN</td>\n",
              "      <td>False</td>\n",
              "      <td>0</td>\n",
              "    </tr>\n",
              "    <tr>\n",
              "      <th>2</th>\n",
              "      <td>1990-01-03</td>\n",
              "      <td>3</td>\n",
              "      <td>1546.0</td>\n",
              "      <td>1540</td>\n",
              "      <td>1710.0</td>\n",
              "      <td>1701</td>\n",
              "      <td>US</td>\n",
              "      <td>33</td>\n",
              "      <td>NaN</td>\n",
              "      <td>84.0</td>\n",
              "      <td>...</td>\n",
              "      <td>NaN</td>\n",
              "      <td>9.0</td>\n",
              "      <td>6.0</td>\n",
              "      <td>EWR</td>\n",
              "      <td>PIT</td>\n",
              "      <td>319.0</td>\n",
              "      <td>NaN</td>\n",
              "      <td>NaN</td>\n",
              "      <td>False</td>\n",
              "      <td>0</td>\n",
              "    </tr>\n",
              "    <tr>\n",
              "      <th>3</th>\n",
              "      <td>1990-01-04</td>\n",
              "      <td>4</td>\n",
              "      <td>1542.0</td>\n",
              "      <td>1540</td>\n",
              "      <td>1710.0</td>\n",
              "      <td>1701</td>\n",
              "      <td>US</td>\n",
              "      <td>33</td>\n",
              "      <td>NaN</td>\n",
              "      <td>88.0</td>\n",
              "      <td>...</td>\n",
              "      <td>NaN</td>\n",
              "      <td>9.0</td>\n",
              "      <td>2.0</td>\n",
              "      <td>EWR</td>\n",
              "      <td>PIT</td>\n",
              "      <td>319.0</td>\n",
              "      <td>NaN</td>\n",
              "      <td>NaN</td>\n",
              "      <td>False</td>\n",
              "      <td>0</td>\n",
              "    </tr>\n",
              "    <tr>\n",
              "      <th>4</th>\n",
              "      <td>1990-01-05</td>\n",
              "      <td>5</td>\n",
              "      <td>1549.0</td>\n",
              "      <td>1540</td>\n",
              "      <td>1706.0</td>\n",
              "      <td>1701</td>\n",
              "      <td>US</td>\n",
              "      <td>33</td>\n",
              "      <td>NaN</td>\n",
              "      <td>77.0</td>\n",
              "      <td>...</td>\n",
              "      <td>NaN</td>\n",
              "      <td>5.0</td>\n",
              "      <td>9.0</td>\n",
              "      <td>EWR</td>\n",
              "      <td>PIT</td>\n",
              "      <td>319.0</td>\n",
              "      <td>NaN</td>\n",
              "      <td>NaN</td>\n",
              "      <td>False</td>\n",
              "      <td>0</td>\n",
              "    </tr>\n",
              "  </tbody>\n",
              "</table>\n",
              "<p>5 rows × 21 columns</p>\n",
              "</div>\n",
              "    <div class=\"colab-df-buttons\">\n",
              "\n",
              "  <div class=\"colab-df-container\">\n",
              "    <button class=\"colab-df-convert\" onclick=\"convertToInteractive('df-8bf46436-cf72-476e-9c4d-37ef72cf62bd')\"\n",
              "            title=\"Convert this dataframe to an interactive table.\"\n",
              "            style=\"display:none;\">\n",
              "\n",
              "  <svg xmlns=\"http://www.w3.org/2000/svg\" height=\"24px\" viewBox=\"0 -960 960 960\">\n",
              "    <path d=\"M120-120v-720h720v720H120Zm60-500h600v-160H180v160Zm220 220h160v-160H400v160Zm0 220h160v-160H400v160ZM180-400h160v-160H180v160Zm440 0h160v-160H620v160ZM180-180h160v-160H180v160Zm440 0h160v-160H620v160Z\"/>\n",
              "  </svg>\n",
              "    </button>\n",
              "\n",
              "  <style>\n",
              "    .colab-df-container {\n",
              "      display:flex;\n",
              "      gap: 12px;\n",
              "    }\n",
              "\n",
              "    .colab-df-convert {\n",
              "      background-color: #E8F0FE;\n",
              "      border: none;\n",
              "      border-radius: 50%;\n",
              "      cursor: pointer;\n",
              "      display: none;\n",
              "      fill: #1967D2;\n",
              "      height: 32px;\n",
              "      padding: 0 0 0 0;\n",
              "      width: 32px;\n",
              "    }\n",
              "\n",
              "    .colab-df-convert:hover {\n",
              "      background-color: #E2EBFA;\n",
              "      box-shadow: 0px 1px 2px rgba(60, 64, 67, 0.3), 0px 1px 3px 1px rgba(60, 64, 67, 0.15);\n",
              "      fill: #174EA6;\n",
              "    }\n",
              "\n",
              "    .colab-df-buttons div {\n",
              "      margin-bottom: 4px;\n",
              "    }\n",
              "\n",
              "    [theme=dark] .colab-df-convert {\n",
              "      background-color: #3B4455;\n",
              "      fill: #D2E3FC;\n",
              "    }\n",
              "\n",
              "    [theme=dark] .colab-df-convert:hover {\n",
              "      background-color: #434B5C;\n",
              "      box-shadow: 0px 1px 3px 1px rgba(0, 0, 0, 0.15);\n",
              "      filter: drop-shadow(0px 1px 2px rgba(0, 0, 0, 0.3));\n",
              "      fill: #FFFFFF;\n",
              "    }\n",
              "  </style>\n",
              "\n",
              "    <script>\n",
              "      const buttonEl =\n",
              "        document.querySelector('#df-8bf46436-cf72-476e-9c4d-37ef72cf62bd button.colab-df-convert');\n",
              "      buttonEl.style.display =\n",
              "        google.colab.kernel.accessAllowed ? 'block' : 'none';\n",
              "\n",
              "      async function convertToInteractive(key) {\n",
              "        const element = document.querySelector('#df-8bf46436-cf72-476e-9c4d-37ef72cf62bd');\n",
              "        const dataTable =\n",
              "          await google.colab.kernel.invokeFunction('convertToInteractive',\n",
              "                                                    [key], {});\n",
              "        if (!dataTable) return;\n",
              "\n",
              "        const docLinkHtml = 'Like what you see? Visit the ' +\n",
              "          '<a target=\"_blank\" href=https://colab.research.google.com/notebooks/data_table.ipynb>data table notebook</a>'\n",
              "          + ' to learn more about interactive tables.';\n",
              "        element.innerHTML = '';\n",
              "        dataTable['output_type'] = 'display_data';\n",
              "        await google.colab.output.renderOutput(dataTable, element);\n",
              "        const docLink = document.createElement('div');\n",
              "        docLink.innerHTML = docLinkHtml;\n",
              "        element.appendChild(docLink);\n",
              "      }\n",
              "    </script>\n",
              "  </div>\n",
              "\n",
              "\n",
              "<div id=\"df-3f1a61a2-9c16-4781-b6f9-56039cfe5204\">\n",
              "  <button class=\"colab-df-quickchart\" onclick=\"quickchart('df-3f1a61a2-9c16-4781-b6f9-56039cfe5204')\"\n",
              "            title=\"Suggest charts\"\n",
              "            style=\"display:none;\">\n",
              "\n",
              "<svg xmlns=\"http://www.w3.org/2000/svg\" height=\"24px\"viewBox=\"0 0 24 24\"\n",
              "     width=\"24px\">\n",
              "    <g>\n",
              "        <path d=\"M19 3H5c-1.1 0-2 .9-2 2v14c0 1.1.9 2 2 2h14c1.1 0 2-.9 2-2V5c0-1.1-.9-2-2-2zM9 17H7v-7h2v7zm4 0h-2V7h2v10zm4 0h-2v-4h2v4z\"/>\n",
              "    </g>\n",
              "</svg>\n",
              "  </button>\n",
              "\n",
              "<style>\n",
              "  .colab-df-quickchart {\n",
              "      --bg-color: #E8F0FE;\n",
              "      --fill-color: #1967D2;\n",
              "      --hover-bg-color: #E2EBFA;\n",
              "      --hover-fill-color: #174EA6;\n",
              "      --disabled-fill-color: #AAA;\n",
              "      --disabled-bg-color: #DDD;\n",
              "  }\n",
              "\n",
              "  [theme=dark] .colab-df-quickchart {\n",
              "      --bg-color: #3B4455;\n",
              "      --fill-color: #D2E3FC;\n",
              "      --hover-bg-color: #434B5C;\n",
              "      --hover-fill-color: #FFFFFF;\n",
              "      --disabled-bg-color: #3B4455;\n",
              "      --disabled-fill-color: #666;\n",
              "  }\n",
              "\n",
              "  .colab-df-quickchart {\n",
              "    background-color: var(--bg-color);\n",
              "    border: none;\n",
              "    border-radius: 50%;\n",
              "    cursor: pointer;\n",
              "    display: none;\n",
              "    fill: var(--fill-color);\n",
              "    height: 32px;\n",
              "    padding: 0;\n",
              "    width: 32px;\n",
              "  }\n",
              "\n",
              "  .colab-df-quickchart:hover {\n",
              "    background-color: var(--hover-bg-color);\n",
              "    box-shadow: 0 1px 2px rgba(60, 64, 67, 0.3), 0 1px 3px 1px rgba(60, 64, 67, 0.15);\n",
              "    fill: var(--button-hover-fill-color);\n",
              "  }\n",
              "\n",
              "  .colab-df-quickchart-complete:disabled,\n",
              "  .colab-df-quickchart-complete:disabled:hover {\n",
              "    background-color: var(--disabled-bg-color);\n",
              "    fill: var(--disabled-fill-color);\n",
              "    box-shadow: none;\n",
              "  }\n",
              "\n",
              "  .colab-df-spinner {\n",
              "    border: 2px solid var(--fill-color);\n",
              "    border-color: transparent;\n",
              "    border-bottom-color: var(--fill-color);\n",
              "    animation:\n",
              "      spin 1s steps(1) infinite;\n",
              "  }\n",
              "\n",
              "  @keyframes spin {\n",
              "    0% {\n",
              "      border-color: transparent;\n",
              "      border-bottom-color: var(--fill-color);\n",
              "      border-left-color: var(--fill-color);\n",
              "    }\n",
              "    20% {\n",
              "      border-color: transparent;\n",
              "      border-left-color: var(--fill-color);\n",
              "      border-top-color: var(--fill-color);\n",
              "    }\n",
              "    30% {\n",
              "      border-color: transparent;\n",
              "      border-left-color: var(--fill-color);\n",
              "      border-top-color: var(--fill-color);\n",
              "      border-right-color: var(--fill-color);\n",
              "    }\n",
              "    40% {\n",
              "      border-color: transparent;\n",
              "      border-right-color: var(--fill-color);\n",
              "      border-top-color: var(--fill-color);\n",
              "    }\n",
              "    60% {\n",
              "      border-color: transparent;\n",
              "      border-right-color: var(--fill-color);\n",
              "    }\n",
              "    80% {\n",
              "      border-color: transparent;\n",
              "      border-right-color: var(--fill-color);\n",
              "      border-bottom-color: var(--fill-color);\n",
              "    }\n",
              "    90% {\n",
              "      border-color: transparent;\n",
              "      border-bottom-color: var(--fill-color);\n",
              "    }\n",
              "  }\n",
              "</style>\n",
              "\n",
              "  <script>\n",
              "    async function quickchart(key) {\n",
              "      const quickchartButtonEl =\n",
              "        document.querySelector('#' + key + ' button');\n",
              "      quickchartButtonEl.disabled = true;  // To prevent multiple clicks.\n",
              "      quickchartButtonEl.classList.add('colab-df-spinner');\n",
              "      try {\n",
              "        const charts = await google.colab.kernel.invokeFunction(\n",
              "            'suggestCharts', [key], {});\n",
              "      } catch (error) {\n",
              "        console.error('Error during call to suggestCharts:', error);\n",
              "      }\n",
              "      quickchartButtonEl.classList.remove('colab-df-spinner');\n",
              "      quickchartButtonEl.classList.add('colab-df-quickchart-complete');\n",
              "    }\n",
              "    (() => {\n",
              "      let quickchartButtonEl =\n",
              "        document.querySelector('#df-3f1a61a2-9c16-4781-b6f9-56039cfe5204 button');\n",
              "      quickchartButtonEl.style.display =\n",
              "        google.colab.kernel.accessAllowed ? 'block' : 'none';\n",
              "    })();\n",
              "  </script>\n",
              "</div>\n",
              "\n",
              "    </div>\n",
              "  </div>\n"
            ],
            "application/vnd.google.colaboratory.intrinsic+json": {
              "type": "dataframe"
            }
          },
          "metadata": {},
          "execution_count": 34
        }
      ]
    },
    {
      "cell_type": "code",
      "metadata": {
        "id": "658CIRFxcLUc",
        "colab": {
          "base_uri": "https://localhost:8080/"
        },
        "outputId": "505d49fb-4d6d-4205-df68-c1cd0eae9d1c"
      },
      "source": [
        "df.compute().shape"
      ],
      "id": "658CIRFxcLUc",
      "execution_count": 35,
      "outputs": [
        {
          "output_type": "stream",
          "name": "stderr",
          "text": [
            "/usr/local/lib/python3.10/dist-packages/dask/dataframe/io/csv.py:195: FutureWarning: Support for nested sequences for 'parse_dates' in pd.read_csv is deprecated. Combine the desired columns with pd.to_datetime after parsing instead.\n",
            "  df = reader(bio, **kwargs)\n",
            "/usr/local/lib/python3.10/dist-packages/dask/dataframe/io/csv.py:195: FutureWarning: Support for nested sequences for 'parse_dates' in pd.read_csv is deprecated. Combine the desired columns with pd.to_datetime after parsing instead.\n",
            "  df = reader(bio, **kwargs)\n",
            "/usr/local/lib/python3.10/dist-packages/dask/dataframe/io/csv.py:195: FutureWarning: Support for nested sequences for 'parse_dates' in pd.read_csv is deprecated. Combine the desired columns with pd.to_datetime after parsing instead.\n",
            "  df = reader(bio, **kwargs)\n",
            "/usr/local/lib/python3.10/dist-packages/dask/dataframe/io/csv.py:195: FutureWarning: Support for nested sequences for 'parse_dates' in pd.read_csv is deprecated. Combine the desired columns with pd.to_datetime after parsing instead.\n",
            "  df = reader(bio, **kwargs)\n",
            "/usr/local/lib/python3.10/dist-packages/dask/dataframe/io/csv.py:195: FutureWarning: Support for nested sequences for 'parse_dates' in pd.read_csv is deprecated. Combine the desired columns with pd.to_datetime after parsing instead.\n",
            "  df = reader(bio, **kwargs)\n",
            "/usr/local/lib/python3.10/dist-packages/dask/dataframe/io/csv.py:195: FutureWarning: Support for nested sequences for 'parse_dates' in pd.read_csv is deprecated. Combine the desired columns with pd.to_datetime after parsing instead.\n",
            "  df = reader(bio, **kwargs)\n",
            "/usr/local/lib/python3.10/dist-packages/dask/dataframe/io/csv.py:195: FutureWarning: Support for nested sequences for 'parse_dates' in pd.read_csv is deprecated. Combine the desired columns with pd.to_datetime after parsing instead.\n",
            "  df = reader(bio, **kwargs)\n",
            "/usr/local/lib/python3.10/dist-packages/dask/dataframe/io/csv.py:195: FutureWarning: Support for nested sequences for 'parse_dates' in pd.read_csv is deprecated. Combine the desired columns with pd.to_datetime after parsing instead.\n",
            "  df = reader(bio, **kwargs)\n",
            "/usr/local/lib/python3.10/dist-packages/dask/dataframe/io/csv.py:195: FutureWarning: Support for nested sequences for 'parse_dates' in pd.read_csv is deprecated. Combine the desired columns with pd.to_datetime after parsing instead.\n",
            "  df = reader(bio, **kwargs)\n",
            "/usr/local/lib/python3.10/dist-packages/dask/dataframe/io/csv.py:195: FutureWarning: Support for nested sequences for 'parse_dates' in pd.read_csv is deprecated. Combine the desired columns with pd.to_datetime after parsing instead.\n",
            "  df = reader(bio, **kwargs)\n"
          ]
        },
        {
          "output_type": "execute_result",
          "data": {
            "text/plain": [
              "(2611892, 21)"
            ]
          },
          "metadata": {},
          "execution_count": 35
        }
      ]
    },
    {
      "cell_type": "markdown",
      "metadata": {
        "id": "parental-framework"
      },
      "source": [
        "#### Computations With Dask Dataframes\n",
        "\n",
        "We want to compute the maximum value of *DepDelay* (the delays occurring in the departure of flights). Now if we are working with simple pandas on this dataset than we need to compute the max. value in each individual data file and concatenate these 10 values together which gives us the required max. value of the whole dataset and this may be put as out of memory.\n",
        "\n",
        "But in dask dataframe we can handle partition more efficiently.\n",
        "\n",
        "dask.dataframe lets us write pandas-like code, that operates on larger than memory datasets.\n"
      ],
      "id": "parental-framework"
    },
    {
      "cell_type": "code",
      "metadata": {
        "id": "complete-overhead"
      },
      "source": [
        "%time df.DepDelay.max().compute()                       # compute() is used in order to get the required value"
      ],
      "id": "complete-overhead",
      "execution_count": null,
      "outputs": []
    },
    {
      "cell_type": "markdown",
      "metadata": {
        "id": "smoking-little"
      },
      "source": [
        "Above code has gone through approximately 2 million entries.\n",
        "As with Delayed objects, we can go through the underlying graphs using `visualize()` method."
      ],
      "id": "smoking-little"
    },
    {
      "cell_type": "code",
      "metadata": {
        "id": "equipped-concord",
        "colab": {
          "base_uri": "https://localhost:8080/",
          "height": 139
        },
        "outputId": "8f6b50aa-dc66-4fc8-eadb-cc8abff9f57c"
      },
      "source": [
        "# visualize the above code using structure diagram\n",
        "df.DepDelay.max().visualize(rankdir='LR', size='15,15!')"
      ],
      "id": "equipped-concord",
      "execution_count": 36,
      "outputs": [
        {
          "output_type": "execute_result",
          "data": {
            "image/svg+xml": "<?xml version=\"1.0\" encoding=\"UTF-8\" standalone=\"no\"?>\n<!DOCTYPE svg PUBLIC \"-//W3C//DTD SVG 1.1//EN\"\n \"http://www.w3.org/Graphics/SVG/1.1/DTD/svg11.dtd\">\n<!-- Generated by graphviz version 2.43.0 (0)\n -->\n<!-- Title: %3 Pages: 1 -->\n<svg width=\"1080pt\" height=\"73pt\"\n viewBox=\"0.00 0.00 1080.00 73.33\" xmlns=\"http://www.w3.org/2000/svg\" xmlns:xlink=\"http://www.w3.org/1999/xlink\">\n<g id=\"graph0\" class=\"graph\" transform=\"scale(1.67 1.67) rotate(0) translate(4 40)\">\n<title>%3</title>\n<polygon fill=\"white\" stroke=\"transparent\" points=\"-4,4 -4,-40 644,-40 644,4 -4,4\"/>\n<!-- &#45;8948575449463930673 -->\n<g id=\"node1\" class=\"node\">\n<title>&#45;8948575449463930673</title>\n<polygon fill=\"none\" stroke=\"black\" points=\"640,-36 483,-36 483,0 640,0 640,-36\"/>\n<text text-anchor=\"middle\" x=\"561.5\" y=\"-13\" font-family=\"Helvetica,sans-Serif\" font-size=\"20.00\">Max(Projection)</text>\n</g>\n<!-- 2110353674065948703 -->\n<g id=\"node2\" class=\"node\">\n<title>2110353674065948703</title>\n<polygon fill=\"none\" stroke=\"black\" points=\"447,-36 142,-36 142,0 447,0 447,-36\"/>\n<text text-anchor=\"middle\" x=\"294.5\" y=\"-13\" font-family=\"Helvetica,sans-Serif\" font-size=\"20.00\">Projection(ReadCSV, DepDelay)</text>\n</g>\n<!-- 2110353674065948703&#45;&gt;&#45;8948575449463930673 -->\n<g id=\"edge1\" class=\"edge\">\n<title>2110353674065948703&#45;&gt;&#45;8948575449463930673</title>\n<path fill=\"none\" stroke=\"black\" d=\"M447.35,-18C455.89,-18 464.31,-18 472.49,-18\"/>\n<polygon fill=\"black\" stroke=\"black\" points=\"472.69,-21.5 482.69,-18 472.69,-14.5 472.69,-21.5\"/>\n</g>\n<!-- &#45;5545589849145778362 -->\n<g id=\"node3\" class=\"node\">\n<title>&#45;5545589849145778362</title>\n<polygon fill=\"none\" stroke=\"black\" points=\"106,-36 0,-36 0,0 106,0 106,-36\"/>\n<text text-anchor=\"middle\" x=\"53\" y=\"-13\" font-family=\"Helvetica,sans-Serif\" font-size=\"20.00\">ReadCSV</text>\n</g>\n<!-- &#45;5545589849145778362&#45;&gt;2110353674065948703 -->\n<g id=\"edge2\" class=\"edge\">\n<title>&#45;5545589849145778362&#45;&gt;2110353674065948703</title>\n<path fill=\"none\" stroke=\"black\" d=\"M106.26,-18C114.16,-18 122.65,-18 131.48,-18\"/>\n<polygon fill=\"black\" stroke=\"black\" points=\"131.59,-21.5 141.59,-18 131.59,-14.5 131.59,-21.5\"/>\n</g>\n</g>\n</svg>\n",
            "text/plain": [
              "<graphviz.graphs.Digraph at 0x7a9ce2e54790>"
            ]
          },
          "metadata": {},
          "execution_count": 36
        }
      ]
    },
    {
      "cell_type": "markdown",
      "metadata": {
        "id": "dried-catalog"
      },
      "source": [
        "### **Dask Bag**"
      ],
      "id": "dried-catalog"
    },
    {
      "cell_type": "markdown",
      "metadata": {
        "id": "described-coupon"
      },
      "source": [
        "Dask Bag implements operations like map, filter, fold, and groupby on collections of generic Python objects. It does this in parallel with a small memory footprint using Python iterators. It is similar to a parallel version of PyToolz or a Pythonic version of the PySpark RDD.\n",
        "\n",
        "Dask bags coordinate many Python lists or Iterators, each of which forms a partition of a larger collection."
      ],
      "id": "described-coupon"
    },
    {
      "cell_type": "markdown",
      "metadata": {
        "id": "infrared-accreditation"
      },
      "source": [
        "Execution on bags provide two benefits:\n",
        "\n",
        "1. Parallel: data is split up, allowing multiple cores or machines to execute in parallel\n",
        "2. Iterating: data processes lazily, allowing smooth execution of larger-than-memory data, even on a single machine within a single partition\n",
        "\n",
        "Bag is the mathematical name for an unordered collection allowing repeats. It uses Parallel lists for semi-structured data.\n",
        "\n",
        "DataFrames are limited to only two dimensions (rows and columns), but Arrays can have many more, whereas Bag is helpful dealing with JSON blobs or text data (unstructured data).\n",
        "\n",
        "To study dask bags, refer the link [here](https://docs.dask.org/en/latest/bag.html)."
      ],
      "id": "infrared-accreditation"
    },
    {
      "cell_type": "code",
      "metadata": {
        "id": "uXV24wC5Y2bi",
        "colab": {
          "base_uri": "https://localhost:8080/"
        },
        "outputId": "f504819b-0293-47e2-bfe5-9c439886f5a0"
      },
      "source": [
        "# creating a bag\n",
        "bag1 = db.from_sequence(range(1000000), partition_size=1000, npartitions=1000)\n",
        "bag1"
      ],
      "id": "uXV24wC5Y2bi",
      "execution_count": 37,
      "outputs": [
        {
          "output_type": "execute_result",
          "data": {
            "text/plain": [
              "dask.bag<from_sequence, npartitions=1000>"
            ]
          },
          "metadata": {},
          "execution_count": 37
        }
      ]
    },
    {
      "cell_type": "code",
      "metadata": {
        "id": "JRdL0r2qY--y",
        "colab": {
          "base_uri": "https://localhost:8080/"
        },
        "outputId": "57c22e77-4e19-450b-8170-b0c99fc83bbd"
      },
      "source": [
        "final_bag1 = bag1.filter(lambda x: x%100 == 0)\n",
        "\n",
        "len(final_bag1.compute())"
      ],
      "id": "JRdL0r2qY--y",
      "execution_count": 38,
      "outputs": [
        {
          "output_type": "execute_result",
          "data": {
            "text/plain": [
              "10000"
            ]
          },
          "metadata": {},
          "execution_count": 38
        }
      ]
    },
    {
      "cell_type": "markdown",
      "metadata": {
        "id": "X4STVdbkabK4"
      },
      "source": [
        "Advantage of using bags with the help of `groupby`\n",
        "\n",
        "we are looping through a list of values (tuple). We want to take a sum of the second value in tuples where the first value is the same. We have both normal python and dask.bag API version."
      ],
      "id": "X4STVdbkabK4"
    },
    {
      "cell_type": "code",
      "metadata": {
        "id": "fQpzElEsaZkf",
        "colab": {
          "base_uri": "https://localhost:8080/"
        },
        "outputId": "716ac002-aa2b-4547-d824-7e939143c889"
      },
      "source": [
        "# Using python\n",
        "x = [(\"a\",100), (\"b\",200), (\"c\",300), (\"d\",400), (\"e\",500), (\"a\",200), (\"e\",300)]\n",
        "\n",
        "# Empty dictionary\n",
        "result = {}\n",
        "\n",
        "# Iterate the list for each item as tuple\n",
        "for key, val in x:\n",
        "    # sum-up the value if key already exist\n",
        "    if key in result:\n",
        "        result[key] += val\n",
        "    # create a key-value pair\n",
        "    else:\n",
        "        result[key] = val\n",
        "\n",
        "list(result.items())"
      ],
      "id": "fQpzElEsaZkf",
      "execution_count": 39,
      "outputs": [
        {
          "output_type": "execute_result",
          "data": {
            "text/plain": [
              "[('a', 300), ('b', 200), ('c', 300), ('d', 400), ('e', 800)]"
            ]
          },
          "metadata": {},
          "execution_count": 39
        }
      ]
    },
    {
      "cell_type": "markdown",
      "metadata": {
        "id": "zEF_UzBAbQ-K"
      },
      "source": [
        "Now let's do the same with bags in a simple way using `groupby`."
      ],
      "id": "zEF_UzBAbQ-K"
    },
    {
      "cell_type": "code",
      "metadata": {
        "id": "Vdh-gNEsa2O6",
        "colab": {
          "base_uri": "https://localhost:8080/"
        },
        "outputId": "f9474c11-aa3a-470a-879c-041822ae7dbf"
      },
      "source": [
        "# using bags API\n",
        "bag1 = db.from_sequence([(\"a\",100), (\"b\",200), (\"c\",300), (\"d\",400), (\"e\",500), (\"a\",200), (\"e\",300)])\n",
        "\n",
        "# using groupby\n",
        "bag1.groupby(lambda x: x[0]).map(lambda x: (x[0], sum([i[1] for i in x[1]]))).compute()"
      ],
      "id": "Vdh-gNEsa2O6",
      "execution_count": 40,
      "outputs": [
        {
          "output_type": "execute_result",
          "data": {
            "text/plain": [
              "[('e', 800), ('a', 300), ('b', 200), ('d', 400), ('c', 300)]"
            ]
          },
          "metadata": {},
          "execution_count": 40
        }
      ]
    },
    {
      "cell_type": "markdown",
      "metadata": {
        "id": "white-hunter"
      },
      "source": [
        "#### Semi-Structured Data\n",
        "\n",
        "We create a random set of record data and store it to disk as many JSON files. This will serve as our data for this notebook."
      ],
      "id": "white-hunter"
    },
    {
      "cell_type": "code",
      "metadata": {
        "id": "forbidden-integer",
        "colab": {
          "base_uri": "https://localhost:8080/"
        },
        "outputId": "febc8bb1-dfc5-42a6-d258-b11528dc3320"
      },
      "source": [
        "# Create data/ directory\n",
        "os.makedirs('data', exist_ok=True)\n",
        "\n",
        "# Make records of people\n",
        "y = dask.datasets.make_people()\n",
        "\n",
        "# Encode as JSON, write to disk\n",
        "y.map(json.dumps).to_textfiles('data/*.json')"
      ],
      "id": "forbidden-integer",
      "execution_count": 41,
      "outputs": [
        {
          "output_type": "execute_result",
          "data": {
            "text/plain": [
              "['/content/data/0.json',\n",
              " '/content/data/1.json',\n",
              " '/content/data/2.json',\n",
              " '/content/data/3.json',\n",
              " '/content/data/4.json',\n",
              " '/content/data/5.json',\n",
              " '/content/data/6.json',\n",
              " '/content/data/7.json',\n",
              " '/content/data/8.json',\n",
              " '/content/data/9.json']"
            ]
          },
          "metadata": {},
          "execution_count": 41
        }
      ]
    },
    {
      "cell_type": "markdown",
      "metadata": {
        "id": "parental-behalf"
      },
      "source": [
        "created and read the JSON files"
      ],
      "id": "parental-behalf"
    },
    {
      "cell_type": "code",
      "metadata": {
        "id": "accessible-nurse",
        "colab": {
          "base_uri": "https://localhost:8080/"
        },
        "outputId": "5479022c-60a2-48d1-ed47-95a331a87ba2"
      },
      "source": [
        "# read the third row of the dataset\n",
        "y.take(3)"
      ],
      "id": "accessible-nurse",
      "execution_count": 42,
      "outputs": [
        {
          "output_type": "execute_result",
          "data": {
            "text/plain": [
              "({'age': 18,\n",
              "  'name': ('Nickolas', 'Campbell'),\n",
              "  'occupation': 'Horticulturalist',\n",
              "  'telephone': '382.939.3342',\n",
              "  'address': {'address': '302 Quintara Esplanade', 'city': 'Culver City'},\n",
              "  'credit-card': {'number': '4434 2243 6747 4909',\n",
              "   'expiration-date': '06/25'}},\n",
              " {'age': 54,\n",
              "  'name': ('Brad', 'Pitts'),\n",
              "  'occupation': 'Gun Smith',\n",
              "  'telephone': '+1-(697)-964-3968',\n",
              "  'address': {'address': '521 Geneva Promenade', 'city': 'Marysville'},\n",
              "  'credit-card': {'number': '5348 2302 7892 6970',\n",
              "   'expiration-date': '11/20'}},\n",
              " {'age': 17,\n",
              "  'name': ('Genia', 'Rasmussen'),\n",
              "  'occupation': 'Palaeobotanist',\n",
              "  'telephone': '1-528-843-8311',\n",
              "  'address': {'address': '549 Steveloe Mews', 'city': 'Pasadena'},\n",
              "  'credit-card': {'number': '3782 556954 87854', 'expiration-date': '06/21'}})"
            ]
          },
          "metadata": {},
          "execution_count": 42
        }
      ]
    },
    {
      "cell_type": "markdown",
      "metadata": {
        "id": "swedish-raleigh"
      },
      "source": [
        "**Map, Filter on Bag**\n",
        "\n",
        "We can process this data by filtering out only certain records of interest, mapping functions over it to process our data, and aggregating those results to a total value."
      ],
      "id": "swedish-raleigh"
    },
    {
      "cell_type": "markdown",
      "metadata": {
        "id": "english-facing"
      },
      "source": [
        "Select only people over 30"
      ],
      "id": "english-facing"
    },
    {
      "cell_type": "code",
      "metadata": {
        "id": "blocked-centre",
        "colab": {
          "base_uri": "https://localhost:8080/"
        },
        "outputId": "ccc9f2cb-09db-4075-fa32-94cec6a03754"
      },
      "source": [
        "# filter the data\n",
        "y.filter(lambda record: record['age'] > 30).take(2)"
      ],
      "id": "blocked-centre",
      "execution_count": 43,
      "outputs": [
        {
          "output_type": "execute_result",
          "data": {
            "text/plain": [
              "({'age': 54,\n",
              "  'name': ('Brad', 'Pitts'),\n",
              "  'occupation': 'Gun Smith',\n",
              "  'telephone': '+1-(697)-964-3968',\n",
              "  'address': {'address': '521 Geneva Promenade', 'city': 'Marysville'},\n",
              "  'credit-card': {'number': '5348 2302 7892 6970',\n",
              "   'expiration-date': '11/20'}},\n",
              " {'age': 114,\n",
              "  'name': ('Arturo', 'Wagner'),\n",
              "  'occupation': 'Production Planner',\n",
              "  'telephone': '1-455-194-5555',\n",
              "  'address': {'address': '994 Hulbert Field', 'city': 'Edmond'},\n",
              "  'credit-card': {'number': '2531 6000 5366 8084',\n",
              "   'expiration-date': '02/18'}})"
            ]
          },
          "metadata": {},
          "execution_count": 43
        }
      ]
    },
    {
      "cell_type": "markdown",
      "metadata": {
        "id": "secure-antibody"
      },
      "source": [
        "Select the occupation field"
      ],
      "id": "secure-antibody"
    },
    {
      "cell_type": "code",
      "metadata": {
        "id": "preliminary-updating",
        "colab": {
          "base_uri": "https://localhost:8080/"
        },
        "outputId": "5a87e3ba-bb53-41d5-b2ff-154ee26f993b"
      },
      "source": [
        "# Selecting particular feature\n",
        "y.map(lambda record: record['occupation']).take(2)"
      ],
      "id": "preliminary-updating",
      "execution_count": 44,
      "outputs": [
        {
          "output_type": "execute_result",
          "data": {
            "text/plain": [
              "('Horticulturalist', 'Gun Smith')"
            ]
          },
          "metadata": {},
          "execution_count": 44
        }
      ]
    },
    {
      "cell_type": "markdown",
      "metadata": {
        "id": "DaX9J5q6-jUu"
      },
      "source": [
        " Count the total number of records"
      ],
      "id": "DaX9J5q6-jUu"
    },
    {
      "cell_type": "code",
      "metadata": {
        "id": "experienced-stocks",
        "colab": {
          "base_uri": "https://localhost:8080/"
        },
        "outputId": "189dc488-d095-479f-beb2-75b1b36220f9"
      },
      "source": [
        "# computing the total number of records in y\n",
        "y.count().compute()"
      ],
      "id": "experienced-stocks",
      "execution_count": 45,
      "outputs": [
        {
          "output_type": "execute_result",
          "data": {
            "text/plain": [
              "10000"
            ]
          },
          "metadata": {},
          "execution_count": 45
        }
      ]
    },
    {
      "cell_type": "markdown",
      "metadata": {
        "id": "ardWCXA6B2v1"
      },
      "source": [
        "### **Machine Learning With Dask**"
      ],
      "id": "ardWCXA6B2v1"
    },
    {
      "cell_type": "markdown",
      "metadata": {
        "id": "mAfNu9D3QNhj"
      },
      "source": [
        "Dask-ML wants to enable scalable machine learning in Python. It aims to do so by\n",
        "\n",
        "1. Working with existing libraries within the Python ecosystem\n",
        "2. Using the features of Dask to scale computation to larger datasets and larger problems"
      ],
      "id": "mAfNu9D3QNhj"
    },
    {
      "cell_type": "markdown",
      "metadata": {
        "id": "eCSCipNJZWUp"
      },
      "source": [
        "#### Generalized Linear Models\n",
        "\n",
        "Generalized linear models are a broad class of commonly used models. These implementations scale out well to large datasets either on a single machine or distributed cluster. They can be powered by a variety of optimization algorithms and use a variety of regularizers.\n",
        "\n",
        "These follow the scikit-learn estimator API, and so can be dropped into existing routines like grid search and pipelines, but are implemented externally with new, scalable algorithms and so can consume distributed dask arrays and dataframes rather than just single-machine NumPy and Pandas arrays and dataframes."
      ],
      "id": "eCSCipNJZWUp"
    },
    {
      "cell_type": "code",
      "metadata": {
        "id": "hAHK3At99aca"
      },
      "source": [
        "from dask_ml.datasets import make_regression\n",
        "from dask_ml.model_selection import train_test_split\n",
        "\n",
        "X, y = make_regression(n_samples=200000, n_features=100, random_state=0, chunks=10000)\n",
        "\n",
        "X_train, X_test, y_train, y_test = train_test_split(X, y)"
      ],
      "id": "hAHK3At99aca",
      "execution_count": 46,
      "outputs": []
    },
    {
      "cell_type": "code",
      "metadata": {
        "id": "Xfm-6x5u-j2X",
        "colab": {
          "base_uri": "https://localhost:8080/"
        },
        "outputId": "4fa76d69-cb93-4599-fee0-d09069f57346"
      },
      "source": [
        "# fit the model\n",
        "\n",
        "lr = LinearRegression()\n",
        "lr.fit(X_train, y_train)\n",
        "lr.score(X_test,y_test)"
      ],
      "id": "Xfm-6x5u-j2X",
      "execution_count": 47,
      "outputs": [
        {
          "output_type": "execute_result",
          "data": {
            "text/plain": [
              "0.9999999876484915"
            ]
          },
          "metadata": {},
          "execution_count": 47
        }
      ]
    },
    {
      "cell_type": "code",
      "metadata": {
        "id": "y6U25XbACagU"
      },
      "source": [
        "#predict on test data\n",
        "pred = lr.predict(X_test)"
      ],
      "id": "y6U25XbACagU",
      "execution_count": 48,
      "outputs": []
    },
    {
      "cell_type": "markdown",
      "source": [],
      "metadata": {
        "id": "8lcTnrfc5uam"
      },
      "id": "8lcTnrfc5uam"
    },
    {
      "cell_type": "code",
      "metadata": {
        "id": "CnDOZAAMDWjE",
        "colab": {
          "base_uri": "https://localhost:8080/"
        },
        "outputId": "89a984c4-7962-4e24-c72e-520c938983ca"
      },
      "source": [
        "# predicted values\n",
        "pred.compute()"
      ],
      "id": "CnDOZAAMDWjE",
      "execution_count": 49,
      "outputs": [
        {
          "output_type": "execute_result",
          "data": {
            "text/plain": [
              "array([-253.13247206,   84.33615106,  146.69146196, ..., -241.19269441,\n",
              "         67.65291992,  137.65547531])"
            ]
          },
          "metadata": {},
          "execution_count": 49
        }
      ]
    },
    {
      "cell_type": "markdown",
      "metadata": {
        "id": "IO9hQhBXZvd2"
      },
      "source": [
        "To know more about dask-ml, click [here](https://ml.dask.org/)."
      ],
      "id": "IO9hQhBXZvd2"
    },
    {
      "cell_type": "markdown",
      "metadata": {
        "id": "CFNLB7O4utb3"
      },
      "source": [
        "### Please answer the questions below to complete the experiment:"
      ],
      "id": "CFNLB7O4utb3"
    },
    {
      "cell_type": "code",
      "metadata": {
        "id": "_38KV9uluveS"
      },
      "source": [
        "# @title Select the FALSE statement: { run: \"auto\", form-width: \"500px\", display-mode: \"form\" }\n",
        "Answer = \"Dask can operate in parallel only on datasets that fit into the main memory\" #@param [\"\",\"Dask can operate in parallel only on datasets that fit into the main memory\",\"Dask provides high level Array Bag and DataFrame collections that mimic NumPy lists and Pandas\",\"Dask provides dynamic task schedulers that execute task graphs in parallel\",\"Dask performs lazy execution by saving the set of inputs and executing only on demand\"]"
      ],
      "id": "_38KV9uluveS",
      "execution_count": 50,
      "outputs": []
    },
    {
      "cell_type": "code",
      "metadata": {
        "id": "IVj6KRihwhPy"
      },
      "source": [
        "#@title How was the experiment? { run: \"auto\", form-width: \"500px\", display-mode: \"form\" }\n",
        "Complexity = \"Good and Challenging for me\" #@param [\"\",\"Too Simple, I am wasting time\", \"Good, But Not Challenging for me\", \"Good and Challenging for me\", \"Was Tough, but I did it\", \"Too Difficult for me\"]\n"
      ],
      "id": "IVj6KRihwhPy",
      "execution_count": 51,
      "outputs": []
    },
    {
      "cell_type": "code",
      "metadata": {
        "id": "G7Wx_ufawlf8"
      },
      "source": [
        "#@title If it was too easy, what more would you have liked to be added? If it was very difficult, what would you have liked to have been removed? { run: \"auto\", display-mode: \"form\" }\n",
        "Additional = \"NA\" #@param {type:\"string\"}\n"
      ],
      "id": "G7Wx_ufawlf8",
      "execution_count": 52,
      "outputs": []
    },
    {
      "cell_type": "code",
      "metadata": {
        "id": "2Fbfkz82w5BI"
      },
      "source": [
        "#@title Can you identify the concepts from the lecture which this experiment covered? { run: \"auto\", vertical-output: true, display-mode: \"form\" }\n",
        "Concepts = \"Yes\" #@param [\"\",\"Yes\", \"No\"]\n"
      ],
      "id": "2Fbfkz82w5BI",
      "execution_count": 53,
      "outputs": []
    },
    {
      "cell_type": "code",
      "metadata": {
        "id": "RauzHTwWw8PW"
      },
      "source": [
        "#@title  Text and image description/explanation and code comments within the experiment: { run: \"auto\", vertical-output: true, display-mode: \"form\" }\n",
        "Comments = \"Very Useful\" #@param [\"\",\"Very Useful\", \"Somewhat Useful\", \"Not Useful\", \"Didn't use\"]\n"
      ],
      "id": "RauzHTwWw8PW",
      "execution_count": 54,
      "outputs": []
    },
    {
      "cell_type": "code",
      "metadata": {
        "id": "wHVmS408w_Si"
      },
      "source": [
        "#@title Mentor Support: { run: \"auto\", vertical-output: true, display-mode: \"form\" }\n",
        "Mentor_support = \"Very Useful\" #@param [\"\",\"Very Useful\", \"Somewhat Useful\", \"Not Useful\", \"Didn't use\"]\n"
      ],
      "id": "wHVmS408w_Si",
      "execution_count": 55,
      "outputs": []
    },
    {
      "cell_type": "code",
      "metadata": {
        "cellView": "form",
        "id": "T-LbsTp6xCy3",
        "colab": {
          "base_uri": "https://localhost:8080/"
        },
        "outputId": "2396504c-6123-49db-9c0e-b5bf954e2381"
      },
      "source": [
        "#@title Run this cell to submit your notebook for grading { vertical-output: true }\n",
        "try:\n",
        "  if submission_id:\n",
        "      return_id = submit_notebook()\n",
        "      if return_id : submission_id = return_id\n",
        "  else:\n",
        "      print(\"Please complete the setup first.\")\n",
        "except NameError:\n",
        "  print (\"Please complete the setup first.\")"
      ],
      "id": "T-LbsTp6xCy3",
      "execution_count": 56,
      "outputs": [
        {
          "output_type": "stream",
          "name": "stdout",
          "text": [
            "Your submission is successful.\n",
            "Ref Id: 8334\n",
            "Date of submission:  19 Nov 2024\n",
            "Time of submission:  11:09:49\n",
            "View your submissions: https://aimlops-iisc.talentsprint.com/notebook_submissions\n"
          ]
        }
      ]
    }
  ]
}